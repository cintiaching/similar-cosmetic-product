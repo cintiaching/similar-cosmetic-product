{
 "cells": [
  {
   "cell_type": "code",
   "execution_count": 5,
   "id": "initial_id",
   "metadata": {
    "collapsed": true,
    "ExecuteTime": {
     "end_time": "2023-12-26T12:24:00.881Z",
     "start_time": "2023-12-26T12:24:00.346423Z"
    }
   },
   "outputs": [],
   "source": [
    "import os\n",
    "import pandas as pd\n",
    "import numpy as np\n",
    "from pyspark.sql import SparkSession\n",
    "from dotenv import load_dotenv"
   ]
  },
  {
   "cell_type": "markdown",
   "source": [
    "# Load data"
   ],
   "metadata": {
    "collapsed": false
   },
   "id": "98cf1e84b2bca832"
  },
  {
   "cell_type": "code",
   "execution_count": 6,
   "outputs": [
    {
     "data": {
      "text/plain": "True"
     },
     "execution_count": 6,
     "metadata": {},
     "output_type": "execute_result"
    }
   ],
   "source": [
    "# Load environment variables from .env file\n",
    "load_dotenv()"
   ],
   "metadata": {
    "collapsed": false,
    "ExecuteTime": {
     "end_time": "2023-12-26T12:24:02.595390Z",
     "start_time": "2023-12-26T12:24:02.583883Z"
    }
   },
   "id": "73e0cb9b8709902e"
  },
  {
   "cell_type": "code",
   "execution_count": 7,
   "outputs": [
    {
     "name": "stderr",
     "output_type": "stream",
     "text": [
      "Setting default log level to \"WARN\".\n",
      "To adjust logging level use sc.setLogLevel(newLevel). For SparkR, use setLogLevel(newLevel).\n",
      "23/12/26 20:24:07 WARN NativeCodeLoader: Unable to load native-hadoop library for your platform... using builtin-java classes where applicable\n",
      "                                                                                \r"
     ]
    }
   ],
   "source": [
    "# read product data\n",
    "spark = SparkSession.builder.appName(\"read_data\").getOrCreate()\n",
    "data = spark.read.parquet(os.environ[\"PRODUCT_DATA_PATH\"])"
   ],
   "metadata": {
    "collapsed": false,
    "ExecuteTime": {
     "end_time": "2023-12-26T12:24:16.138970Z",
     "start_time": "2023-12-26T12:24:03.289013Z"
    }
   },
   "id": "5d2267298cba0d4a"
  },
  {
   "cell_type": "code",
   "execution_count": 8,
   "outputs": [
    {
     "name": "stdout",
     "output_type": "stream",
     "text": [
      "root\n",
      " |-- product_id: string (nullable = true)\n",
      " |-- product_name: string (nullable = true)\n",
      " |-- brand: string (nullable = true)\n",
      " |-- category: string (nullable = true)\n",
      " |-- class: string (nullable = true)\n",
      " |-- subclass: string (nullable = true)\n",
      " |-- product_description: string (nullable = true)\n"
     ]
    }
   ],
   "source": [
    "data.printSchema()"
   ],
   "metadata": {
    "collapsed": false,
    "ExecuteTime": {
     "end_time": "2023-12-26T12:24:16.172531Z",
     "start_time": "2023-12-26T12:24:16.141146Z"
    }
   },
   "id": "e6de0f3c61bc246f"
  },
  {
   "cell_type": "markdown",
   "source": [
    "# Initialize vectorstore"
   ],
   "metadata": {
    "collapsed": false
   },
   "id": "a0793ef76bf42696"
  },
  {
   "cell_type": "code",
   "execution_count": 9,
   "outputs": [],
   "source": [
    "from vectordb import SimilarProductVectorDB\n",
    "\n",
    "vectorstore = SimilarProductVectorDB(\n",
    "    collection_name=\"cosmetics_similar_product_db\",\n",
    "    distance_function=\"cosine\",\n",
    "    n_query_result=10,  # show at most top 10 most similar product in result\n",
    ")"
   ],
   "metadata": {
    "collapsed": false,
    "ExecuteTime": {
     "end_time": "2023-12-26T12:24:16.667665Z",
     "start_time": "2023-12-26T12:24:16.170475Z"
    }
   },
   "id": "85b8c1b357d58acc"
  },
  {
   "cell_type": "code",
   "execution_count": 10,
   "outputs": [
    {
     "name": "stderr",
     "output_type": "stream",
     "text": [
      "                                                                                \r"
     ]
    }
   ],
   "source": [
    "# extract documents and metadata from table\n",
    "df = data.toPandas()\n",
    "df = df[:200] # TODO\n",
    "df = df[~df[\"brand\"].isna()] # TODO\n",
    "# adding random stock level\n",
    "df[\"stock_level\"] = np.random.randint(0, 101, size=len(df)) # TODO"
   ],
   "metadata": {
    "collapsed": false,
    "ExecuteTime": {
     "end_time": "2023-12-26T12:24:20.463978Z",
     "start_time": "2023-12-26T12:24:16.670275Z"
    }
   },
   "id": "489ce307da13a32a"
  },
  {
   "cell_type": "code",
   "execution_count": 11,
   "outputs": [
    {
     "data": {
      "text/plain": "  product_id                                       product_name  \\\n0     BKK023      Prisme Libre Loose Powder Set – 5 Satin Blanc   \n1     BKU919                     Artist Liquid Matte – 301 Rust   \n2     AIJ788                Loubilaque Lip Lacquer – Goldissima   \n3     AIK109                              Brow Sculptor – Taupe   \n4     AIK118  Skin Long–Wear Weightless Compact Foundation S...   \n\n                 brand category class    subclass  \\\n0      GIVENCHY BEAUTY   Makeup  Face      Powder   \n1     MAKE UP FOR EVER   Makeup   Lip   Lip Gloss   \n2  CHRISTIAN LOUBOUTIN   Makeup   Lip   Lip Gloss   \n3             TOM FORD   Makeup   Eye     Eyebrow   \n4          BOBBI BROWN   Makeup  Face  Foundation   \n\n                                 product_description  stock_level  \n0  Givenchy draws inspiration from the delicacy o...            2  \n1  MAKE UP FOR EVERs Artist Liquid Matte is a lon...           77  \n2  Drawing inspiration from Christian Louboutins ...           79  \n3  A perfectly groomed and shaped brow is the mos...           97  \n4  Bobbi Browns Skin Long-Wear Weightless Compact...           79  ",
      "text/html": "<div>\n<style scoped>\n    .dataframe tbody tr th:only-of-type {\n        vertical-align: middle;\n    }\n\n    .dataframe tbody tr th {\n        vertical-align: top;\n    }\n\n    .dataframe thead th {\n        text-align: right;\n    }\n</style>\n<table border=\"1\" class=\"dataframe\">\n  <thead>\n    <tr style=\"text-align: right;\">\n      <th></th>\n      <th>product_id</th>\n      <th>product_name</th>\n      <th>brand</th>\n      <th>category</th>\n      <th>class</th>\n      <th>subclass</th>\n      <th>product_description</th>\n      <th>stock_level</th>\n    </tr>\n  </thead>\n  <tbody>\n    <tr>\n      <th>0</th>\n      <td>BKK023</td>\n      <td>Prisme Libre Loose Powder Set – 5 Satin Blanc</td>\n      <td>GIVENCHY BEAUTY</td>\n      <td>Makeup</td>\n      <td>Face</td>\n      <td>Powder</td>\n      <td>Givenchy draws inspiration from the delicacy o...</td>\n      <td>2</td>\n    </tr>\n    <tr>\n      <th>1</th>\n      <td>BKU919</td>\n      <td>Artist Liquid Matte – 301 Rust</td>\n      <td>MAKE UP FOR EVER</td>\n      <td>Makeup</td>\n      <td>Lip</td>\n      <td>Lip Gloss</td>\n      <td>MAKE UP FOR EVERs Artist Liquid Matte is a lon...</td>\n      <td>77</td>\n    </tr>\n    <tr>\n      <th>2</th>\n      <td>AIJ788</td>\n      <td>Loubilaque Lip Lacquer – Goldissima</td>\n      <td>CHRISTIAN LOUBOUTIN</td>\n      <td>Makeup</td>\n      <td>Lip</td>\n      <td>Lip Gloss</td>\n      <td>Drawing inspiration from Christian Louboutins ...</td>\n      <td>79</td>\n    </tr>\n    <tr>\n      <th>3</th>\n      <td>AIK109</td>\n      <td>Brow Sculptor – Taupe</td>\n      <td>TOM FORD</td>\n      <td>Makeup</td>\n      <td>Eye</td>\n      <td>Eyebrow</td>\n      <td>A perfectly groomed and shaped brow is the mos...</td>\n      <td>97</td>\n    </tr>\n    <tr>\n      <th>4</th>\n      <td>AIK118</td>\n      <td>Skin Long–Wear Weightless Compact Foundation S...</td>\n      <td>BOBBI BROWN</td>\n      <td>Makeup</td>\n      <td>Face</td>\n      <td>Foundation</td>\n      <td>Bobbi Browns Skin Long-Wear Weightless Compact...</td>\n      <td>79</td>\n    </tr>\n  </tbody>\n</table>\n</div>"
     },
     "execution_count": 11,
     "metadata": {},
     "output_type": "execute_result"
    }
   ],
   "source": [
    "df.head()"
   ],
   "metadata": {
    "collapsed": false,
    "ExecuteTime": {
     "end_time": "2023-12-26T12:24:20.499859Z",
     "start_time": "2023-12-26T12:24:20.475303Z"
    }
   },
   "id": "e6a84c08403a1faa"
  },
  {
   "cell_type": "markdown",
   "source": [
    "# Add to vectordb\n",
    "Simply use product description as the features and pass into the vectorstore."
   ],
   "metadata": {
    "collapsed": false
   },
   "id": "15ca234a20f5532b"
  },
  {
   "cell_type": "code",
   "execution_count": 12,
   "outputs": [],
   "source": [
    "# put document into vectordb\n",
    "product_ids = list(df[\"product_id\"])\n",
    "product_desc = list(df[\"product_description\"])\n",
    "product_metadatas = df[[\"product_name\", \"brand\", \"category\", \"class\", \"subclass\", \"stock_level\"]].to_dict(orient='records')\n",
    "\n",
    "vectorstore.add_documents(\n",
    "    documents=product_desc,\n",
    "    metadatas=product_metadatas,\n",
    "    product_ids=product_ids,\n",
    ")"
   ],
   "metadata": {
    "collapsed": false,
    "ExecuteTime": {
     "end_time": "2023-12-26T12:24:35.384926Z",
     "start_time": "2023-12-26T12:24:20.508116Z"
    }
   },
   "id": "242ba43736a0a3c7"
  },
  {
   "cell_type": "markdown",
   "source": [
    "# Query"
   ],
   "metadata": {
    "collapsed": false
   },
   "id": "1db7b5cd835fddf2"
  },
  {
   "cell_type": "code",
   "execution_count": 13,
   "outputs": [],
   "source": [
    "# small function for visualizing the result\n",
    "def visualize_result(query_result):\n",
    "    result_dict = query_result[\"metadatas\"][0]\n",
    "    query_id = query_result[\"ids\"][0][0]\n",
    "    for i, (_id, distance) in enumerate(zip(query_result[\"ids\"][0], query_result[\"distances\"][0])):\n",
    "        result_dict[i][\"product_id\"] = _id\n",
    "        result_dict[i][\"distance\"] = distance\n",
    "    result_df = pd.DataFrame(result_dict)\n",
    "    result_df = result_df[[\"product_id\", \"product_name\", \"class\", \"subclass\", \"stock_level\", \"brand\", \"distance\"]]\n",
    "    print(f\"For Product {query_id}, the top {len(result['ids'][0]) - 1} most similar items are:\")\n",
    "    display(result_df)"
   ],
   "metadata": {
    "collapsed": false,
    "ExecuteTime": {
     "end_time": "2023-12-26T12:24:35.389706Z",
     "start_time": "2023-12-26T12:24:35.387236Z"
    }
   },
   "id": "839722694ee7d273"
  },
  {
   "cell_type": "code",
   "execution_count": 14,
   "outputs": [
    {
     "data": {
      "text/plain": "'AJK466'"
     },
     "execution_count": 14,
     "metadata": {},
     "output_type": "execute_result"
    }
   ],
   "source": [
    "random_product_id = np.random.choice(product_ids, 1)[0]\n",
    "random_product_id"
   ],
   "metadata": {
    "collapsed": false,
    "ExecuteTime": {
     "end_time": "2023-12-26T12:24:35.401390Z",
     "start_time": "2023-12-26T12:24:35.391254Z"
    }
   },
   "id": "a1afb24d6df2318c"
  },
  {
   "cell_type": "code",
   "execution_count": 15,
   "outputs": [
    {
     "data": {
      "text/plain": "{'ids': [['AJK466',\n   'AJH310',\n   'AJE072',\n   'AIW587',\n   'AJE069',\n   'AJL162',\n   'AJH480',\n   'AJL158',\n   'AJB964',\n   'AJI576']],\n 'distances': [[-1.1920928955078125e-07,\n   0.420322060585022,\n   0.4324754476547241,\n   0.45584380626678467,\n   0.4642549753189087,\n   0.466641366481781,\n   0.4721042513847351,\n   0.48723477125167847,\n   0.5467393398284912,\n   0.5687351822853088]],\n 'metadatas': [[{'brand': 'DIOR BEAUTY',\n    'category': 'Fragrance',\n    'class': 'Perfume',\n    'product_name': \"J'Adore Body Mist 100ml\",\n    'stock_level': 59,\n    'subclass': 'Spray'},\n   {'brand': 'DIPTYQUE',\n    'category': 'Fragrance',\n    'class': 'Perfume',\n    'product_name': 'Tempo Eau de Parfum 75ml',\n    'stock_level': 18,\n    'subclass': 'Spray'},\n   {'brand': 'SERGE LUTENS',\n    'category': 'Fragrance',\n    'class': 'Perfume',\n    'product_name': 'La Religieuse 50ml',\n    'stock_level': 18,\n    'subclass': 'Spray'},\n   {'brand': 'TOM FORD',\n    'category': 'Fragrance',\n    'class': 'Perfume',\n    'product_name': 'Eau de Soleil Blanc 50ml',\n    'stock_level': 100,\n    'subclass': 'Spray'},\n   {'brand': 'SERGE LUTENS',\n    'category': 'Fragrance',\n    'class': 'Perfume',\n    'product_name': \"L'orpheline 50ml\",\n    'stock_level': 27,\n    'subclass': 'Spray'},\n   {'brand': 'JO MALONE LONDON',\n    'category': 'Fragrance',\n    'class': 'Perfume',\n    'product_name': 'Tropical Cherimoya Cologne 30ml',\n    'stock_level': 55,\n    'subclass': 'Spray'},\n   {'brand': 'ATELIER COLOGNE',\n    'category': 'Fragrance',\n    'class': 'Perfume',\n    'product_name': 'Iris Rebelle Cologne Absolute 30ml',\n    'stock_level': 1,\n    'subclass': 'Spray'},\n   {'brand': 'JO MALONE LONDON',\n    'category': 'Fragrance',\n    'class': 'Perfume',\n    'product_name': 'Plum Blossom Cologne 100ml',\n    'stock_level': 55,\n    'subclass': 'Spray'},\n   {'brand': 'MAISON FRANCIS KURKDJIAN',\n    'category': 'Fragrance',\n    'class': 'Perfume',\n    'product_name': 'Aqua Vitae Eau de Toilette 70ml',\n    'stock_level': 26,\n    'subclass': 'Spray'},\n   {'brand': 'GUERLAIN',\n    'category': 'Fragrance',\n    'class': 'Perfume',\n    'product_name': 'Aqua Allegoria Passiflora 75ml',\n    'stock_level': 74,\n    'subclass': 'Spray'}]],\n 'embeddings': None,\n 'documents': [['Airy and sensual, this precious mist from Dior envelops the body in a delicate, refreshing cloud of scent and maintains the skins moisturisation. A formula for more beautiful and instantly soft skin. A new, irresistible way to enhance your skin and bathe it in the scent of Jadore.<li>100ml</li><li>Envelops skin with delicate scent</li><li>Maintains skins moisture</li><li>Country of origin: France</li><li>Use after showering or bathing</li><li>Spritz over body for light scent</li><li>Top up whenever necessary throughout the day</li>',\n   'Celebrating the 50th anniversary of its first perfume launch, diptyque presents this Tempo Eau de Parfum with a woody scent centred around patchouli to capture the freedom and spirituality of nature.<li>75ml</li><li>Olfactory family: Woody</li><li>Key notes: Patchouli, maté, clary sage, and violet</li><li>Country of origin: France</li><li>Spray directly on pulse points (wrists, behind ears, décolletage, inside the elbow, behind the knees, inside the ankles)</li><li>If lighter application is preferred, spray into the air and walk through the mist</li>',\n   'Capturing the purity and sensuality of women, Serge Lutens La religieuse haunts with its pure notes of jasmine against a civet background and lingers with a plume of incense.<li>Collection Noire</li><li>50ml</li><li>Key notes: Jasmine, incense and civet</li><li>Country of origin: France</li><li>Spray directly on pulse points (wrists, behind ears, décolletage, inside the elbow, behind the knees, inside the ankles)</li><li>If lighter application is preferred, spray into the air and walk through the mist</li>',\n   'Crisp. Radiant. Addictive.<br><br>Eau de Soleil Blanc by Tom Ford embodies a refreshing illumination on private blend Soleil Blanc, bright, crisp and drenched with sparkling citrus. The vibrant twist on the floral amber warmth mirrors the crystalline reflection of the white sun, a sensuous gleam of sky on water.<li>50ml</li><li>Scent: Sparkling citrus and floral amber</li><li>Country of origin: USA</li><li>Spray directly on pulse points (wrists, behind ears, décolletage, inside the elbow, behind the knees, inside the ankles)</li><li>If lighter application is preferred, spray into the air and walk through the mist</li>',\n   'Inspired by the mythical Greek musician, Lorpheline by Serge Lutens opens up with castoreum and incense notes balanced by the softness of musk to give the composition a creamy finish.<li>Collection Noire</li><li>50ml</li><li>Key notes: Incense, castoreum and musk</li><li>Country of origin: France</li><li>Spray directly on pulse points (wrists, behind ears, décolletage, inside the elbow, behind the knees, inside the ankles)</li><li>If lighter application is preferred, spray into the air and walk through the mist</li>',\n   'Mouth-watering and tempting, Jo Malone Londons Tropical Cherimoya Cologne is topped with juicy pear, and warms by Brazilian copahu resin and creamy tonka bean.<li>30ml</li><li>Key notes: Pear, Brazilian copahu resin, tonka bean</li><li>Other sizes available</li><li>Spray directly on pulse points (wrists, behind ears, décolletage, inside the elbow, behind the knees, inside the ankles)</li><li>If lighter application is preferred, spray into the air and walk through the mist</li>',\n   'Romantically attractive and powerful, this Iris Rebelle Cologne Absolute from Atelier Cologne opens with a spicy, fruity blend, lingering with a floral heart and woody base.<li>30ml</li><li>Suitable for men</li><li>Chic Absolu collection</li><li>Top notes: Bergamot from Calabria, orange flower from Morocco, and blackpepper from Vietnam</li><li>Heart notes: Iris from Morocco,  lavender from Provence, and rose centifolia from Grasse</li><li>Base notes: Gaiac wood from Central America, patchouli from Indonesia, and white musk accord</li><li>Other sizes available</li><li>Country of origin: France</li><li>Spray directly on pulse points (wrists, behind ears, décolletage, inside the elbow, behind the knees, inside the ankles)</li><li>If lighter application is preferred, spray into the air and walk through the mist</li>',\n   'Soft and juicy, Jo Malone Londons Plum Blossom Cologne reveals a fresh plum scent, which melts into a blooming floral heart note and unfolds the woody note of white musk.<li>100ml</li><li>Top note: Yellow plum</li><li>Heart note: Plum blossom</li><li>Base note: White musk</li><li>Spray directly on pulse points (wrists, behind ears, décolletage, inside the elbow, behind the knees, inside the ankles)</li><li>If lighter application is preferred, spray into the air and walk through the mist</li>',\n   'Reminisce on summer afternoons with Maison Francis Kurkdjians Aqua Vitae Eau de Toilette. Opening with fresh mandarin and lemon, this one is further grounded by a woody vanilla and tonka beans base.<li>70ml</li><li>Key notes: Lemon from Calabria, Mandarin from Sicily, hedione, guaiac wood, vanilla and tonka bean from Brazil</li><li>Country of origin: France</li><li>Spray directly on pulse points (wrists, behind ears, décolletage, inside the elbow, behind the knees, inside the ankles</li>',\n   'Guerlains Aqua Allegoria collection pays homage to the simple moments of springtime innocence. This 1999 Passiflora Eau de Toilette classic is updated with a citrusy punch from the bergamot fruit alongside a sparkling blend of passion fruit and ylang-ylang flower reminiscent of crystalline waters in a lagoon.<li>Aqua Allegoria collection</li><li>75ml</li><li>Scent: Fruity citrus</li><li>Key note: Passion fruit, aquatic note, ylang ylang</li><li>Country of origin: France</li><li>Spray directly on pulse points (wrists, behind ears, décolletage, inside the elbow, behind the knees, inside the ankles)</li>']],\n 'uris': None,\n 'data': None}"
     },
     "execution_count": 15,
     "metadata": {},
     "output_type": "execute_result"
    }
   ],
   "source": [
    "result = vectorstore.query_with_product_id(random_product_id)\n",
    "result"
   ],
   "metadata": {
    "collapsed": false,
    "ExecuteTime": {
     "end_time": "2023-12-26T12:24:35.415388Z",
     "start_time": "2023-12-26T12:24:35.396166Z"
    }
   },
   "id": "a703163f02ca085a"
  },
  {
   "cell_type": "code",
   "execution_count": 16,
   "outputs": [
    {
     "name": "stdout",
     "output_type": "stream",
     "text": [
      "For Product AJK466, the top 9 most similar items are:\n"
     ]
    },
    {
     "data": {
      "text/plain": "  product_id                        product_name    class subclass  \\\n0     AJK466             J'Adore Body Mist 100ml  Perfume    Spray   \n1     AJH310            Tempo Eau de Parfum 75ml  Perfume    Spray   \n2     AJE072                  La Religieuse 50ml  Perfume    Spray   \n3     AIW587            Eau de Soleil Blanc 50ml  Perfume    Spray   \n4     AJE069                    L'orpheline 50ml  Perfume    Spray   \n5     AJL162     Tropical Cherimoya Cologne 30ml  Perfume    Spray   \n6     AJH480  Iris Rebelle Cologne Absolute 30ml  Perfume    Spray   \n7     AJL158          Plum Blossom Cologne 100ml  Perfume    Spray   \n8     AJB964     Aqua Vitae Eau de Toilette 70ml  Perfume    Spray   \n9     AJI576      Aqua Allegoria Passiflora 75ml  Perfume    Spray   \n\n   stock_level                     brand      distance  \n0           59               DIOR BEAUTY -1.192093e-07  \n1           18                  DIPTYQUE  4.203221e-01  \n2           18              SERGE LUTENS  4.324754e-01  \n3          100                  TOM FORD  4.558438e-01  \n4           27              SERGE LUTENS  4.642550e-01  \n5           55          JO MALONE LONDON  4.666414e-01  \n6            1           ATELIER COLOGNE  4.721043e-01  \n7           55          JO MALONE LONDON  4.872348e-01  \n8           26  MAISON FRANCIS KURKDJIAN  5.467393e-01  \n9           74                  GUERLAIN  5.687352e-01  ",
      "text/html": "<div>\n<style scoped>\n    .dataframe tbody tr th:only-of-type {\n        vertical-align: middle;\n    }\n\n    .dataframe tbody tr th {\n        vertical-align: top;\n    }\n\n    .dataframe thead th {\n        text-align: right;\n    }\n</style>\n<table border=\"1\" class=\"dataframe\">\n  <thead>\n    <tr style=\"text-align: right;\">\n      <th></th>\n      <th>product_id</th>\n      <th>product_name</th>\n      <th>class</th>\n      <th>subclass</th>\n      <th>stock_level</th>\n      <th>brand</th>\n      <th>distance</th>\n    </tr>\n  </thead>\n  <tbody>\n    <tr>\n      <th>0</th>\n      <td>AJK466</td>\n      <td>J'Adore Body Mist 100ml</td>\n      <td>Perfume</td>\n      <td>Spray</td>\n      <td>59</td>\n      <td>DIOR BEAUTY</td>\n      <td>-1.192093e-07</td>\n    </tr>\n    <tr>\n      <th>1</th>\n      <td>AJH310</td>\n      <td>Tempo Eau de Parfum 75ml</td>\n      <td>Perfume</td>\n      <td>Spray</td>\n      <td>18</td>\n      <td>DIPTYQUE</td>\n      <td>4.203221e-01</td>\n    </tr>\n    <tr>\n      <th>2</th>\n      <td>AJE072</td>\n      <td>La Religieuse 50ml</td>\n      <td>Perfume</td>\n      <td>Spray</td>\n      <td>18</td>\n      <td>SERGE LUTENS</td>\n      <td>4.324754e-01</td>\n    </tr>\n    <tr>\n      <th>3</th>\n      <td>AIW587</td>\n      <td>Eau de Soleil Blanc 50ml</td>\n      <td>Perfume</td>\n      <td>Spray</td>\n      <td>100</td>\n      <td>TOM FORD</td>\n      <td>4.558438e-01</td>\n    </tr>\n    <tr>\n      <th>4</th>\n      <td>AJE069</td>\n      <td>L'orpheline 50ml</td>\n      <td>Perfume</td>\n      <td>Spray</td>\n      <td>27</td>\n      <td>SERGE LUTENS</td>\n      <td>4.642550e-01</td>\n    </tr>\n    <tr>\n      <th>5</th>\n      <td>AJL162</td>\n      <td>Tropical Cherimoya Cologne 30ml</td>\n      <td>Perfume</td>\n      <td>Spray</td>\n      <td>55</td>\n      <td>JO MALONE LONDON</td>\n      <td>4.666414e-01</td>\n    </tr>\n    <tr>\n      <th>6</th>\n      <td>AJH480</td>\n      <td>Iris Rebelle Cologne Absolute 30ml</td>\n      <td>Perfume</td>\n      <td>Spray</td>\n      <td>1</td>\n      <td>ATELIER COLOGNE</td>\n      <td>4.721043e-01</td>\n    </tr>\n    <tr>\n      <th>7</th>\n      <td>AJL158</td>\n      <td>Plum Blossom Cologne 100ml</td>\n      <td>Perfume</td>\n      <td>Spray</td>\n      <td>55</td>\n      <td>JO MALONE LONDON</td>\n      <td>4.872348e-01</td>\n    </tr>\n    <tr>\n      <th>8</th>\n      <td>AJB964</td>\n      <td>Aqua Vitae Eau de Toilette 70ml</td>\n      <td>Perfume</td>\n      <td>Spray</td>\n      <td>26</td>\n      <td>MAISON FRANCIS KURKDJIAN</td>\n      <td>5.467393e-01</td>\n    </tr>\n    <tr>\n      <th>9</th>\n      <td>AJI576</td>\n      <td>Aqua Allegoria Passiflora 75ml</td>\n      <td>Perfume</td>\n      <td>Spray</td>\n      <td>74</td>\n      <td>GUERLAIN</td>\n      <td>5.687352e-01</td>\n    </tr>\n  </tbody>\n</table>\n</div>"
     },
     "metadata": {},
     "output_type": "display_data"
    }
   ],
   "source": [
    "visualize_result(result)"
   ],
   "metadata": {
    "collapsed": false,
    "ExecuteTime": {
     "end_time": "2023-12-26T12:24:35.449336Z",
     "start_time": "2023-12-26T12:24:35.405531Z"
    }
   },
   "id": "b9dc643756a53079"
  },
  {
   "cell_type": "code",
   "execution_count": null,
   "outputs": [],
   "source": [],
   "metadata": {
    "collapsed": false
   },
   "id": "d3e1f8d0665d79cd"
  }
 ],
 "metadata": {
  "kernelspec": {
   "display_name": "Python 3",
   "language": "python",
   "name": "python3"
  },
  "language_info": {
   "codemirror_mode": {
    "name": "ipython",
    "version": 2
   },
   "file_extension": ".py",
   "mimetype": "text/x-python",
   "name": "python",
   "nbconvert_exporter": "python",
   "pygments_lexer": "ipython2",
   "version": "2.7.6"
  }
 },
 "nbformat": 4,
 "nbformat_minor": 5
}
