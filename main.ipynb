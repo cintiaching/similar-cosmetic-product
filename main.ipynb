{
 "cells": [
  {
   "cell_type": "code",
   "execution_count": 1,
   "id": "initial_id",
   "metadata": {
    "ExecuteTime": {
     "end_time": "2024-01-01T04:08:24.774014Z",
     "start_time": "2024-01-01T04:08:24.159924Z"
    }
   },
   "outputs": [
    {
     "data": {
      "text/plain": [
       "True"
      ]
     },
     "execution_count": 1,
     "metadata": {},
     "output_type": "execute_result"
    }
   ],
   "source": [
    "import os\n",
    "import pandas as pd\n",
    "import numpy as np\n",
    "from pyspark.sql import SparkSession\n",
    "from dotenv import load_dotenv\n",
    "\n",
    "from vectordb import SimilarProductVectorDB\n",
    "\n",
    "load_dotenv()"
   ]
  },
  {
   "cell_type": "markdown",
   "id": "98cf1e84b2bca832",
   "metadata": {
    "collapsed": false,
    "jupyter": {
     "outputs_hidden": false
    }
   },
   "source": [
    "# Load data"
   ]
  },
  {
   "cell_type": "code",
   "execution_count": 2,
   "id": "5d2267298cba0d4a",
   "metadata": {
    "ExecuteTime": {
     "end_time": "2024-01-01T04:08:39.170273Z",
     "start_time": "2024-01-01T04:08:32.496142Z"
    },
    "collapsed": false,
    "jupyter": {
     "outputs_hidden": false
    }
   },
   "outputs": [
    {
     "name": "stderr",
     "output_type": "stream",
     "text": [
      "Setting default log level to \"WARN\".\n",
      "To adjust logging level use sc.setLogLevel(newLevel). For SparkR, use setLogLevel(newLevel).\n",
      "24/01/01 14:39:27 WARN NativeCodeLoader: Unable to load native-hadoop library for your platform... using builtin-java classes where applicable\n",
      "                                                                                \r"
     ]
    }
   ],
   "source": [
    "# read product data\n",
    "spark = SparkSession.builder.appName(\"read_data\").getOrCreate()\n",
    "data = spark.read.parquet(os.environ[\"PRODUCT_DATA_PATH\"])"
   ]
  },
  {
   "cell_type": "code",
   "execution_count": 3,
   "id": "e6de0f3c61bc246f",
   "metadata": {
    "ExecuteTime": {
     "end_time": "2023-12-27T08:00:17.737316Z",
     "start_time": "2023-12-27T08:00:17.700780Z"
    },
    "collapsed": false,
    "jupyter": {
     "outputs_hidden": false
    }
   },
   "outputs": [
    {
     "name": "stdout",
     "output_type": "stream",
     "text": [
      "root\n",
      " |-- product_id: string (nullable = true)\n",
      " |-- product_name: string (nullable = true)\n",
      " |-- brand: string (nullable = true)\n",
      " |-- category: string (nullable = true)\n",
      " |-- class: string (nullable = true)\n",
      " |-- subclass: string (nullable = true)\n",
      " |-- product_description: string (nullable = true)\n",
      "\n"
     ]
    }
   ],
   "source": [
    "data.printSchema()"
   ]
  },
  {
   "cell_type": "markdown",
   "id": "a0793ef76bf42696",
   "metadata": {
    "collapsed": false,
    "jupyter": {
     "outputs_hidden": false
    }
   },
   "source": [
    "# Initialize vectorstore"
   ]
  },
  {
   "cell_type": "code",
   "execution_count": 4,
   "id": "85b8c1b357d58acc",
   "metadata": {
    "ExecuteTime": {
     "end_time": "2023-12-27T08:00:18.221504Z",
     "start_time": "2023-12-27T08:00:17.726732Z"
    },
    "collapsed": false,
    "jupyter": {
     "outputs_hidden": false
    }
   },
   "outputs": [],
   "source": [
    "vectorstore = SimilarProductVectorDB(\n",
    "    collection_name=\"cosmetics_similar_product_db\",\n",
    "    distance_function=\"ip\",\n",
    "    n_query_result=10,  # show at most top 10 most similar product in result\n",
    ")"
   ]
  },
  {
   "cell_type": "code",
   "execution_count": 5,
   "id": "489ce307da13a32a",
   "metadata": {
    "ExecuteTime": {
     "end_time": "2023-12-27T08:00:21.772554Z",
     "start_time": "2023-12-27T08:00:18.222812Z"
    },
    "collapsed": false,
    "jupyter": {
     "outputs_hidden": false
    }
   },
   "outputs": [
    {
     "name": "stderr",
     "output_type": "stream",
     "text": [
      "                                                                                \r"
     ]
    }
   ],
   "source": [
    "# extract documents and metadata from table\n",
    "df = data.toPandas()\n",
    "# adding random stock level\n",
    "df[\"stock_level\"] = np.random.randint(0, 101, size=len(df))"
   ]
  },
  {
   "cell_type": "code",
   "execution_count": 6,
   "id": "e6a84c08403a1faa",
   "metadata": {
    "ExecuteTime": {
     "end_time": "2023-12-27T08:00:21.785244Z",
     "start_time": "2023-12-27T08:00:21.773893Z"
    },
    "collapsed": false,
    "jupyter": {
     "outputs_hidden": false
    }
   },
   "outputs": [
    {
     "data": {
      "text/html": [
       "<div>\n",
       "<style scoped>\n",
       "    .dataframe tbody tr th:only-of-type {\n",
       "        vertical-align: middle;\n",
       "    }\n",
       "\n",
       "    .dataframe tbody tr th {\n",
       "        vertical-align: top;\n",
       "    }\n",
       "\n",
       "    .dataframe thead th {\n",
       "        text-align: right;\n",
       "    }\n",
       "</style>\n",
       "<table border=\"1\" class=\"dataframe\">\n",
       "  <thead>\n",
       "    <tr style=\"text-align: right;\">\n",
       "      <th></th>\n",
       "      <th>product_id</th>\n",
       "      <th>product_name</th>\n",
       "      <th>brand</th>\n",
       "      <th>category</th>\n",
       "      <th>class</th>\n",
       "      <th>subclass</th>\n",
       "      <th>product_description</th>\n",
       "      <th>stock_level</th>\n",
       "    </tr>\n",
       "  </thead>\n",
       "  <tbody>\n",
       "    <tr>\n",
       "      <th>0</th>\n",
       "      <td>KLK169</td>\n",
       "      <td>Luminous Deep Hydration Lifting Mask</td>\n",
       "      <td>TATCHA</td>\n",
       "      <td>Skincare</td>\n",
       "      <td>Masks &amp; Treatments</td>\n",
       "      <td>Sheet Mask</td>\n",
       "      <td>Boosting moisture levels up to 200% in 15 minu...</td>\n",
       "      <td>9</td>\n",
       "    </tr>\n",
       "    <tr>\n",
       "      <th>1</th>\n",
       "      <td>LGY307</td>\n",
       "      <td>Jour d'Hermès Absolu Eau de Parfum 50ml</td>\n",
       "      <td>HERMÈS</td>\n",
       "      <td>Fragrance</td>\n",
       "      <td>Perfume</td>\n",
       "      <td>Spray</td>\n",
       "      <td>I wanted to express the essence of femininity ...</td>\n",
       "      <td>75</td>\n",
       "    </tr>\n",
       "    <tr>\n",
       "      <th>2</th>\n",
       "      <td>LGY220</td>\n",
       "      <td>Jour d'Hermès Absolu Eau de Parfum 85ml</td>\n",
       "      <td>HERMÈS</td>\n",
       "      <td>Fragrance</td>\n",
       "      <td>Perfume</td>\n",
       "      <td>Spray</td>\n",
       "      <td>I wanted to express the essence of femininity ...</td>\n",
       "      <td>40</td>\n",
       "    </tr>\n",
       "    <tr>\n",
       "      <th>3</th>\n",
       "      <td>LKK287</td>\n",
       "      <td>Love In White Spray 75ml</td>\n",
       "      <td>CREED</td>\n",
       "      <td>Fragrance</td>\n",
       "      <td>Perfume</td>\n",
       "      <td>Spray</td>\n",
       "      <td>Inspired by a love for sailing, this Millésime...</td>\n",
       "      <td>8</td>\n",
       "    </tr>\n",
       "    <tr>\n",
       "      <th>4</th>\n",
       "      <td>AKY054</td>\n",
       "      <td>Neroli Portofino Eau de Parfum 100ml</td>\n",
       "      <td>TOM FORD</td>\n",
       "      <td>Fragrance</td>\n",
       "      <td>Perfume</td>\n",
       "      <td>Spray</td>\n",
       "      <td>Vibrant. Sparkling. Transportive.&lt;br&gt;To TOM FO...</td>\n",
       "      <td>20</td>\n",
       "    </tr>\n",
       "  </tbody>\n",
       "</table>\n",
       "</div>"
      ],
      "text/plain": [
       "  product_id                             product_name     brand   category  \\\n",
       "0     KLK169     Luminous Deep Hydration Lifting Mask    TATCHA   Skincare   \n",
       "1     LGY307  Jour d'Hermès Absolu Eau de Parfum 50ml    HERMÈS  Fragrance   \n",
       "2     LGY220  Jour d'Hermès Absolu Eau de Parfum 85ml    HERMÈS  Fragrance   \n",
       "3     LKK287                 Love In White Spray 75ml     CREED  Fragrance   \n",
       "4     AKY054     Neroli Portofino Eau de Parfum 100ml  TOM FORD  Fragrance   \n",
       "\n",
       "                class    subclass  \\\n",
       "0  Masks & Treatments  Sheet Mask   \n",
       "1             Perfume       Spray   \n",
       "2             Perfume       Spray   \n",
       "3             Perfume       Spray   \n",
       "4             Perfume       Spray   \n",
       "\n",
       "                                 product_description  stock_level  \n",
       "0  Boosting moisture levels up to 200% in 15 minu...            9  \n",
       "1  I wanted to express the essence of femininity ...           75  \n",
       "2  I wanted to express the essence of femininity ...           40  \n",
       "3  Inspired by a love for sailing, this Millésime...            8  \n",
       "4  Vibrant. Sparkling. Transportive.<br>To TOM FO...           20  "
      ]
     },
     "execution_count": 6,
     "metadata": {},
     "output_type": "execute_result"
    }
   ],
   "source": [
    "df.head()"
   ]
  },
  {
   "cell_type": "markdown",
   "id": "15ca234a20f5532b",
   "metadata": {
    "collapsed": false,
    "jupyter": {
     "outputs_hidden": false
    }
   },
   "source": [
    "# Add to vectorstore\n",
    "Simply use product description as the features and pass into the vectorstore."
   ]
  },
  {
   "cell_type": "code",
   "execution_count": 7,
   "id": "242ba43736a0a3c7",
   "metadata": {
    "ExecuteTime": {
     "end_time": "2023-12-27T08:04:19.875220Z",
     "start_time": "2023-12-27T08:00:21.784006Z"
    },
    "collapsed": false,
    "jupyter": {
     "outputs_hidden": false
    }
   },
   "outputs": [],
   "source": [
    "# put document into vectordb\n",
    "product_ids = list(df[\"product_id\"])\n",
    "product_desc = list(df[\"product_description\"])\n",
    "product_metadatas = df[[\"product_name\", \"brand\", \"category\", \"class\", \"subclass\", \"stock_level\"]].to_dict(\n",
    "    orient='records')\n",
    "\n",
    "vectorstore.add_documents(\n",
    "    documents=product_desc,\n",
    "    metadatas=product_metadatas,\n",
    "    product_ids=product_ids,\n",
    ")"
   ]
  },
  {
   "cell_type": "markdown",
   "id": "1db7b5cd835fddf2",
   "metadata": {
    "collapsed": false,
    "jupyter": {
     "outputs_hidden": false
    }
   },
   "source": [
    "# Query"
   ]
  },
  {
   "cell_type": "code",
   "execution_count": 13,
   "id": "839722694ee7d273",
   "metadata": {
    "ExecuteTime": {
     "end_time": "2024-01-01T04:09:40.726817Z",
     "start_time": "2024-01-01T04:09:40.722547Z"
    },
    "collapsed": false,
    "jupyter": {
     "outputs_hidden": false
    }
   },
   "outputs": [],
   "source": [
    "# small function for visualizing the result\n",
    "def visualize_result(query_result):\n",
    "    result_dict = query_result[\"metadatas\"][0]\n",
    "    query_id = query_result[\"ids\"][0][0]\n",
    "    for i, (_id, distance) in enumerate(zip(query_result[\"ids\"][0], query_result[\"distances\"][0])):\n",
    "        result_dict[i][\"product_id\"] = _id\n",
    "        result_dict[i][\"distance\"] = round(distance, 3)\n",
    "    result_df = pd.DataFrame(result_dict)\n",
    "    result_df = result_df[[\"product_id\", \"product_name\", \"class\", \"subclass\", \"stock_level\", \"brand\", \"distance\"]]\n",
    "    print(f\"For Product {query_id}, the top {len(query_result['ids'][0]) - 1} most similar items are:\")\n",
    "    display(result_df)"
   ]
  },
  {
   "cell_type": "code",
   "execution_count": 14,
   "id": "a1afb24d6df2318c",
   "metadata": {
    "ExecuteTime": {
     "end_time": "2023-12-27T08:04:19.887852Z",
     "start_time": "2023-12-27T08:04:19.881011Z"
    },
    "collapsed": false,
    "jupyter": {
     "outputs_hidden": false
    }
   },
   "outputs": [
    {
     "data": {
      "text/plain": [
       "'AKW566'"
      ]
     },
     "execution_count": 14,
     "metadata": {},
     "output_type": "execute_result"
    }
   ],
   "source": [
    "random_product_id = np.random.choice(product_ids, 1)[0]\n",
    "random_product_id"
   ]
  },
  {
   "cell_type": "code",
   "execution_count": 15,
   "id": "a703163f02ca085a",
   "metadata": {
    "ExecuteTime": {
     "end_time": "2023-12-27T08:04:19.983575Z",
     "start_time": "2023-12-27T08:04:19.884722Z"
    },
    "collapsed": false,
    "jupyter": {
     "outputs_hidden": false
    }
   },
   "outputs": [
    {
     "data": {
      "text/plain": [
       "{'ids': [['AKW566',\n",
       "   'AKW568',\n",
       "   'AKW565',\n",
       "   'AKW569',\n",
       "   'AJB605',\n",
       "   'AKW563',\n",
       "   'AJB603',\n",
       "   'AJB609',\n",
       "   'AJB602',\n",
       "   'ALB647']],\n",
       " 'distances': [[1.7881393432617188e-07,\n",
       "   0.06979924440383911,\n",
       "   0.07616376876831055,\n",
       "   0.08861368894577026,\n",
       "   0.16402119398117065,\n",
       "   0.2724398970603943,\n",
       "   0.27301663160324097,\n",
       "   0.27621912956237793,\n",
       "   0.2779233455657959,\n",
       "   0.2978266477584839]],\n",
       " 'metadatas': [[{'brand': 'FRESH',\n",
       "    'category': 'Skincare',\n",
       "    'class': 'Lip Care',\n",
       "    'product_name': 'Sugar Peach Hydrating Lip Balm Limited Edition',\n",
       "    'stock_level': 33,\n",
       "    'subclass': 'Lip Balm'},\n",
       "   {'brand': 'FRESH',\n",
       "    'category': 'Skincare',\n",
       "    'class': 'Lip Care',\n",
       "    'product_name': 'Sugar Chocolate Hydrating Lip Balm Limited Edition',\n",
       "    'stock_level': 89,\n",
       "    'subclass': 'Lip Balm'},\n",
       "   {'brand': 'FRESH',\n",
       "    'category': 'Skincare',\n",
       "    'class': 'Lip Care',\n",
       "    'product_name': 'Sugar Lemon Hydrating Lip Balm Limited Edition',\n",
       "    'stock_level': 28,\n",
       "    'subclass': 'Lip Balm'},\n",
       "   {'brand': 'FRESH',\n",
       "    'category': 'Skincare',\n",
       "    'class': 'Lip Care',\n",
       "    'product_name': 'Sugar Coconut Hydrating Lip Balm',\n",
       "    'stock_level': 60,\n",
       "    'subclass': 'Lip Balm'},\n",
       "   {'brand': 'FRESH',\n",
       "    'category': 'Skincare',\n",
       "    'class': 'Lip Care',\n",
       "    'product_name': 'Sugar Lip Caramel Hydrating Balm',\n",
       "    'stock_level': 1,\n",
       "    'subclass': 'Lip Balm'},\n",
       "   {'brand': 'FRESH',\n",
       "    'category': 'Skincare',\n",
       "    'class': 'Lip Care',\n",
       "    'product_name': 'Sugar Dream Lip Treatment Advanced Therapy',\n",
       "    'stock_level': 99,\n",
       "    'subclass': 'Lip Treatment'},\n",
       "   {'brand': 'FRESH',\n",
       "    'category': 'Skincare',\n",
       "    'class': 'Lip Care',\n",
       "    'product_name': 'Sugar Cream Lip Treatment – Baby',\n",
       "    'stock_level': 42,\n",
       "    'subclass': 'Lip Treatment'},\n",
       "   {'brand': 'FRESH',\n",
       "    'category': 'Skincare',\n",
       "    'class': 'Lip Care',\n",
       "    'product_name': 'Sugar Cream Lip Treatment – Gilt',\n",
       "    'stock_level': 5,\n",
       "    'subclass': 'Lip Treatment'},\n",
       "   {'brand': 'FRESH',\n",
       "    'category': 'Skincare',\n",
       "    'class': 'Lip Care',\n",
       "    'product_name': 'Sugar Cream Lip Treatment – Pearl',\n",
       "    'stock_level': 13,\n",
       "    'subclass': 'Lip Treatment'},\n",
       "   {'brand': 'SUBTLE ENERGIES',\n",
       "    'category': 'Skincare',\n",
       "    'class': 'Lip Care',\n",
       "    'product_name': 'Rose Petal Lip Balm 4.4g',\n",
       "    'stock_level': 47,\n",
       "    'subclass': 'Lip Balm'}]],\n",
       " 'embeddings': None,\n",
       " 'documents': [['Lock in moisture for soft, supple, healthy-looking lips with this Sugar Peach Hydrating Lip Balm from Fresh. Inspired by peaches and cream, this limited edition formula coats lips with a protective veil that smoothes and comforts on contact while delivering a velvety sheen.<li>Limited edition</li><li>6g</li><li>Rich, cushiony formula smoothes and comforts on contact</li><li>Delivers a velvety sheen</li><li>Sugar is a natural humectant known to prevent moisture loss</li><li>A blend of emollient oils, including apricot kernel, black currant seed, and grapeseed oils, soften and moisturise lips</li><li>Vitamin E protects</li><li>Country of origin: France</li><li>Apply throughout the day when lips need nourishment</li>',\n",
       "   'Lock in moisture for soft, supple, healthy-looking lips with this Sugar Chocolate Hydrating Lip Balm from Fresh. Inspired by chocolate fudge, this limited edition formula coats lips with a protective veil that smoothes and comforts on contact while delivering a velvety sheen.<li>Limited edition</li><li>6g</li><li>Rich, cushiony formula smoothes and comforts on contact</li><li>Delivers a velvety sheen</li><li>Sugar is a natural humectant known to prevent moisture loss</li><li>A blend of emollient oils, including apricot kernel, black currant seed, and grapeseed oils, soften and moisturise lips</li><li>Vitamin E protects</li><li>Country of origin: France</li><li>Apply throughout the day when lips need nourishment</li>',\n",
       "   'Lock in moisture for soft, supple, healthy-looking lips with this Sugar Lemon Hydrating Lip Balm from Fresh. Inspired by lemon meringue, this limited edition formula coats lips with a protective veil that smoothes and comforts on contact while delivering a velvety sheen.<li>Limited edition</li><li>6g</li><li>Rich, cushiony formula smoothes and comforts on contact</li><li>Delivers a velvety sheen</li><li>Sugar is a natural humectant known to prevent moisture loss</li><li>A blend of emollient oils, including apricot kernel, black currant seed, and grapeseed oils, soften and moisturise lips</li><li>Vitamin E protects</li><li>Country of origin: France</li><li>Apply throughout the day when lips need nourishment</li>',\n",
       "   'Lock in moisture for soft, supple, healthy-looking lips with this Sugar Coconut Hydrating Lip Balm from Fresh. Inspired by coconut cream, this formula coats lips with a protective veil that smoothes and comforts on contact while delivering a velvety sheen.<li>6g</li><li>Rich, cushiony formula smoothes and comforts on contact</li><li>Delivers a velvety sheen</li><li>Sugar is a natural humectant known to prevent moisture loss</li><li>A blend of emollient oils, including apricot kernel, black currant seed, and grapeseed oils, soften and moisturise lips</li><li>Vitamin E protects</li><li>Country of origin: France</li><li>Apply throughout the day when lips need nourishment</li>',\n",
       "   'This Sugar Lip Caramel Hydrating Balm by Fresh is enriched with a blend of emollient oils and sugar, creating a protective veil over the lips to retain moisture with a soft, supple touch.<li>6g</li><li>Hydrates lips with a velvety sheen</li><li>Sugar prevents moisture loss</li><li>Apricot kernel, blackcurrant seed and grapeseed oils to soften and moisturise lips</li><li>Country of origin: USA</li><li>Apply onto lips when needed</li>',\n",
       "   'A rescue remedy for the taking, this Sugar Dream Lip Treatment Advanced Therapy from Fresh is a tinted balm that will offer sheer coverage with a hint of colour. Significantly boosting moisture for 24 hours, this will enhance volume and improve the definition of the lips.<li>4.3g</li><li>Dreamy pink tint with sheer coverage</li><li>Significantly boosts moisture for 24 hours</li><li>Enhances volume, and improves the definition of the lip area</li><li>Sea fennel smoothes the appearance of fine lines and wrinkles</li><li>Orange extract keeps lips protected and healthy-looking</li><li>Country of origin: France</li><li>Apply throughout the day when lips need nourishment</li>',\n",
       "   'Enriched with sugar and essential oils for supreme nourishment, this Sugar Cream Lip Treatment from Fresh hydrates the lips with a sheer shimmer.<li>Colour: Baby</li><li>10ml</li><li>Nourishes and smoothes the lips with a sheer pearly shimmer</li><li>Creamy, cushiony formula delivers a soft, modern glow</li><li>Sugar prevents moisture loss</li><li>Blackcurrant seed oil, jojoba seed oil and avocado oils provide supreme nourishment</li><li>Antioxidant-rich grapeseed oil softens and protects against damaging free radicals</li><li>Country of origin: USA</li><li>Apply a pearl-sized amount onto lips</li>',\n",
       "   'Enriched with sugar and essential oils for supreme nourishment, this Sugar Cream Lip Treatment from Fresh hydrates the lips with a sheer shimmer.<li>Colour: Gilt</li><li>10ml</li><li>Nourishes and smoothes the lips with a sheer pearly shimmer</li><li>Creamy, cushiony formula delivers a soft, modern glow</li><li>Sugar prevents moisture loss</li><li>Blackcurrant seed oil, jojoba seed oil and avocado oils provide supreme nourishment</li><li>Antioxidant-rich grapeseed oil softens and protects against damaging free radicals</li><li>Country of origin: USA</li><li>Apply a pearl-sized amount onto lips</li>',\n",
       "   'Enriched with sugar and essential oils for supreme nourishment, this Sugar Cream Lip Treatment from Fresh hydrates the lips with a sheer shimmer.<li>Colour: Pearl</li><li>10ml</li><li>Nourishes and smoothes the lips with a sheer pearly shimmer</li><li>Creamy, cushiony formula delivers a soft, modern glow</li><li>Sugar prevents moisture loss</li><li>Blackcurrant seed oil, jojoba seed oil and avocado oils provide supreme nourishment</li><li>Antioxidant-rich grapeseed oil softens and protects against damaging free radicals</li><li>Country of origin: USA</li><li>Apply a pearl-sized amount onto lips</li>',\n",
       "   'An enriching and hydrating formula to alleviate chapped lips, Subtle Energies Rose Petal Lip Balm soothes with rose otto, shea butter, and cocoa butter, and leaves behind a perfect, nourished pout.<li>4.4g</li><li>Suitable for dry, damaged lips</li><li>Hydrating balm formula</li><li>Enriching, hydrating, and nourishing dry and damaged lips</li><li>Rose Absolute is an emollient with hydrating and toning qualities</li><li>Delicate floral and woody aroma</li><li>Country of origin: Australia</li><li>Apply morning and night, and as required throughout the day</li><li>For best results, when using product for the first time, apply firm pressure with finger to break surface layer</li><li>Blend well with fingertip to achieve the ideal consistency</li><li>Smooth over lips with fingertip</li>']],\n",
       " 'uris': None,\n",
       " 'data': None}"
      ]
     },
     "execution_count": 15,
     "metadata": {},
     "output_type": "execute_result"
    }
   ],
   "source": [
    "result = vectorstore.query_with_product_id(random_product_id)\n",
    "result"
   ]
  },
  {
   "cell_type": "code",
   "execution_count": 17,
   "id": "84d9ce4bf5ae3320",
   "metadata": {
    "ExecuteTime": {
     "end_time": "2023-12-27T03:50:16.349294Z",
     "start_time": "2023-12-27T03:50:16.344374Z"
    },
    "collapsed": false,
    "jupyter": {
     "outputs_hidden": false
    }
   },
   "outputs": [
    {
     "name": "stdout",
     "output_type": "stream",
     "text": [
      "For Product AKW566, the top 9 most similar items are:\n"
     ]
    },
    {
     "data": {
      "text/html": [
       "<div>\n",
       "<style scoped>\n",
       "    .dataframe tbody tr th:only-of-type {\n",
       "        vertical-align: middle;\n",
       "    }\n",
       "\n",
       "    .dataframe tbody tr th {\n",
       "        vertical-align: top;\n",
       "    }\n",
       "\n",
       "    .dataframe thead th {\n",
       "        text-align: right;\n",
       "    }\n",
       "</style>\n",
       "<table border=\"1\" class=\"dataframe\">\n",
       "  <thead>\n",
       "    <tr style=\"text-align: right;\">\n",
       "      <th></th>\n",
       "      <th>product_id</th>\n",
       "      <th>product_name</th>\n",
       "      <th>class</th>\n",
       "      <th>subclass</th>\n",
       "      <th>stock_level</th>\n",
       "      <th>brand</th>\n",
       "      <th>distance</th>\n",
       "    </tr>\n",
       "  </thead>\n",
       "  <tbody>\n",
       "    <tr>\n",
       "      <th>0</th>\n",
       "      <td>AKW566</td>\n",
       "      <td>Sugar Peach Hydrating Lip Balm Limited Edition</td>\n",
       "      <td>Lip Care</td>\n",
       "      <td>Lip Balm</td>\n",
       "      <td>33</td>\n",
       "      <td>FRESH</td>\n",
       "      <td>0.000</td>\n",
       "    </tr>\n",
       "    <tr>\n",
       "      <th>1</th>\n",
       "      <td>AKW568</td>\n",
       "      <td>Sugar Chocolate Hydrating Lip Balm Limited Edi...</td>\n",
       "      <td>Lip Care</td>\n",
       "      <td>Lip Balm</td>\n",
       "      <td>89</td>\n",
       "      <td>FRESH</td>\n",
       "      <td>0.070</td>\n",
       "    </tr>\n",
       "    <tr>\n",
       "      <th>2</th>\n",
       "      <td>AKW565</td>\n",
       "      <td>Sugar Lemon Hydrating Lip Balm Limited Edition</td>\n",
       "      <td>Lip Care</td>\n",
       "      <td>Lip Balm</td>\n",
       "      <td>28</td>\n",
       "      <td>FRESH</td>\n",
       "      <td>0.076</td>\n",
       "    </tr>\n",
       "    <tr>\n",
       "      <th>3</th>\n",
       "      <td>AKW569</td>\n",
       "      <td>Sugar Coconut Hydrating Lip Balm</td>\n",
       "      <td>Lip Care</td>\n",
       "      <td>Lip Balm</td>\n",
       "      <td>60</td>\n",
       "      <td>FRESH</td>\n",
       "      <td>0.089</td>\n",
       "    </tr>\n",
       "    <tr>\n",
       "      <th>4</th>\n",
       "      <td>AJB605</td>\n",
       "      <td>Sugar Lip Caramel Hydrating Balm</td>\n",
       "      <td>Lip Care</td>\n",
       "      <td>Lip Balm</td>\n",
       "      <td>1</td>\n",
       "      <td>FRESH</td>\n",
       "      <td>0.164</td>\n",
       "    </tr>\n",
       "    <tr>\n",
       "      <th>5</th>\n",
       "      <td>AKW563</td>\n",
       "      <td>Sugar Dream Lip Treatment Advanced Therapy</td>\n",
       "      <td>Lip Care</td>\n",
       "      <td>Lip Treatment</td>\n",
       "      <td>99</td>\n",
       "      <td>FRESH</td>\n",
       "      <td>0.272</td>\n",
       "    </tr>\n",
       "    <tr>\n",
       "      <th>6</th>\n",
       "      <td>AJB603</td>\n",
       "      <td>Sugar Cream Lip Treatment – Baby</td>\n",
       "      <td>Lip Care</td>\n",
       "      <td>Lip Treatment</td>\n",
       "      <td>42</td>\n",
       "      <td>FRESH</td>\n",
       "      <td>0.273</td>\n",
       "    </tr>\n",
       "    <tr>\n",
       "      <th>7</th>\n",
       "      <td>AJB609</td>\n",
       "      <td>Sugar Cream Lip Treatment – Gilt</td>\n",
       "      <td>Lip Care</td>\n",
       "      <td>Lip Treatment</td>\n",
       "      <td>5</td>\n",
       "      <td>FRESH</td>\n",
       "      <td>0.276</td>\n",
       "    </tr>\n",
       "    <tr>\n",
       "      <th>8</th>\n",
       "      <td>AJB602</td>\n",
       "      <td>Sugar Cream Lip Treatment – Pearl</td>\n",
       "      <td>Lip Care</td>\n",
       "      <td>Lip Treatment</td>\n",
       "      <td>13</td>\n",
       "      <td>FRESH</td>\n",
       "      <td>0.278</td>\n",
       "    </tr>\n",
       "    <tr>\n",
       "      <th>9</th>\n",
       "      <td>ALB647</td>\n",
       "      <td>Rose Petal Lip Balm 4.4g</td>\n",
       "      <td>Lip Care</td>\n",
       "      <td>Lip Balm</td>\n",
       "      <td>47</td>\n",
       "      <td>SUBTLE ENERGIES</td>\n",
       "      <td>0.298</td>\n",
       "    </tr>\n",
       "  </tbody>\n",
       "</table>\n",
       "</div>"
      ],
      "text/plain": [
       "  product_id                                       product_name     class  \\\n",
       "0     AKW566     Sugar Peach Hydrating Lip Balm Limited Edition  Lip Care   \n",
       "1     AKW568  Sugar Chocolate Hydrating Lip Balm Limited Edi...  Lip Care   \n",
       "2     AKW565     Sugar Lemon Hydrating Lip Balm Limited Edition  Lip Care   \n",
       "3     AKW569                   Sugar Coconut Hydrating Lip Balm  Lip Care   \n",
       "4     AJB605                   Sugar Lip Caramel Hydrating Balm  Lip Care   \n",
       "5     AKW563         Sugar Dream Lip Treatment Advanced Therapy  Lip Care   \n",
       "6     AJB603                   Sugar Cream Lip Treatment – Baby  Lip Care   \n",
       "7     AJB609                   Sugar Cream Lip Treatment – Gilt  Lip Care   \n",
       "8     AJB602                  Sugar Cream Lip Treatment – Pearl  Lip Care   \n",
       "9     ALB647                           Rose Petal Lip Balm 4.4g  Lip Care   \n",
       "\n",
       "        subclass  stock_level            brand  distance  \n",
       "0       Lip Balm           33            FRESH     0.000  \n",
       "1       Lip Balm           89            FRESH     0.070  \n",
       "2       Lip Balm           28            FRESH     0.076  \n",
       "3       Lip Balm           60            FRESH     0.089  \n",
       "4       Lip Balm            1            FRESH     0.164  \n",
       "5  Lip Treatment           99            FRESH     0.272  \n",
       "6  Lip Treatment           42            FRESH     0.273  \n",
       "7  Lip Treatment            5            FRESH     0.276  \n",
       "8  Lip Treatment           13            FRESH     0.278  \n",
       "9       Lip Balm           47  SUBTLE ENERGIES     0.298  "
      ]
     },
     "metadata": {},
     "output_type": "display_data"
    }
   ],
   "source": [
    "visualize_result(result)"
   ]
  },
  {
   "cell_type": "markdown",
   "id": "59350c0baa9707f0",
   "metadata": {
    "collapsed": false,
    "jupyter": {
     "outputs_hidden": false
    }
   },
   "source": [
    "# Use Extracted Features\n",
    "Use extracted features as the features and pass the embeddings into the vectorstore."
   ]
  },
  {
   "cell_type": "code",
   "execution_count": 18,
   "id": "6371b0be95f84d01",
   "metadata": {
    "ExecuteTime": {
     "end_time": "2024-01-01T04:09:12.914325Z",
     "start_time": "2024-01-01T04:09:06.523228Z"
    },
    "collapsed": false,
    "jupyter": {
     "outputs_hidden": false
    }
   },
   "outputs": [
    {
     "name": "stdout",
     "output_type": "stream",
     "text": [
      "root\n",
      " |-- product_id: string (nullable = true)\n",
      " |-- product_name: string (nullable = true)\n",
      " |-- brand: string (nullable = true)\n",
      " |-- category: string (nullable = true)\n",
      " |-- class: string (nullable = true)\n",
      " |-- subclass: string (nullable = true)\n",
      " |-- product_description: string (nullable = true)\n",
      " |-- features: array (nullable = true)\n",
      " |    |-- element: string (containsNull = true)\n",
      "\n"
     ]
    }
   ],
   "source": [
    "# load data\n",
    "data = spark.read.parquet(os.environ[\"PERFUME_PRODUCT_DATA_PATH\"])\n",
    "data.printSchema()"
   ]
  },
  {
   "cell_type": "code",
   "execution_count": 19,
   "id": "cf74d5698a599323",
   "metadata": {
    "ExecuteTime": {
     "end_time": "2024-01-01T04:09:13.143507Z",
     "start_time": "2024-01-01T04:09:12.912050Z"
    },
    "collapsed": false,
    "jupyter": {
     "outputs_hidden": false
    }
   },
   "outputs": [],
   "source": [
    "# another vectorstore for features\n",
    "perfume_vectorstore = SimilarProductVectorDB(\n",
    "    collection_name=\"perfume_similar_product_db\",\n",
    "    distance_function=\"ip\",\n",
    "    n_query_result=10,  # show at most top 10 most similar product in result\n",
    ")"
   ]
  },
  {
   "cell_type": "code",
   "execution_count": 20,
   "id": "5f57d3d5fb61f0de",
   "metadata": {
    "ExecuteTime": {
     "end_time": "2024-01-01T04:09:21.260424Z",
     "start_time": "2024-01-01T04:09:17.342815Z"
    },
    "collapsed": false,
    "jupyter": {
     "outputs_hidden": false
    }
   },
   "outputs": [
    {
     "data": {
      "text/html": [
       "<div>\n",
       "<style scoped>\n",
       "    .dataframe tbody tr th:only-of-type {\n",
       "        vertical-align: middle;\n",
       "    }\n",
       "\n",
       "    .dataframe tbody tr th {\n",
       "        vertical-align: top;\n",
       "    }\n",
       "\n",
       "    .dataframe thead th {\n",
       "        text-align: right;\n",
       "    }\n",
       "</style>\n",
       "<table border=\"1\" class=\"dataframe\">\n",
       "  <thead>\n",
       "    <tr style=\"text-align: right;\">\n",
       "      <th></th>\n",
       "      <th>product_id</th>\n",
       "      <th>product_name</th>\n",
       "      <th>brand</th>\n",
       "      <th>category</th>\n",
       "      <th>class</th>\n",
       "      <th>subclass</th>\n",
       "      <th>product_description</th>\n",
       "      <th>features</th>\n",
       "      <th>stock_level</th>\n",
       "    </tr>\n",
       "  </thead>\n",
       "  <tbody>\n",
       "    <tr>\n",
       "      <th>0</th>\n",
       "      <td>YBB493</td>\n",
       "      <td>Acqua Di Gioia Eau de Parfum 100ml</td>\n",
       "      <td>GIORGIO ARMANI BEAUTY</td>\n",
       "      <td>Fragrance</td>\n",
       "      <td>Perfume</td>\n",
       "      <td>Spray</td>\n",
       "      <td>Perfect for the spring and summer, Giorgio Arm...</td>\n",
       "      <td>[lmr cedarwood heart, brown sugar, labdanum]</td>\n",
       "      <td>15</td>\n",
       "    </tr>\n",
       "    <tr>\n",
       "      <th>1</th>\n",
       "      <td>YQX798</td>\n",
       "      <td>My Burberry Eau De Parfum 90ml</td>\n",
       "      <td>BURBERRY BEAUTY</td>\n",
       "      <td>Fragrance</td>\n",
       "      <td>Perfume</td>\n",
       "      <td>Spray</td>\n",
       "      <td>&lt;li&gt;90ml&lt;/li&gt;&lt;li&gt;Contemporary floral scent&lt;/li...</td>\n",
       "      <td>[sweet pea, bergamot fuse, geranium leaf, gold...</td>\n",
       "      <td>69</td>\n",
       "    </tr>\n",
       "    <tr>\n",
       "      <th>2</th>\n",
       "      <td>OYK369</td>\n",
       "      <td>Rose Amazone Eau de Toilette 100ml</td>\n",
       "      <td>HERMÈS</td>\n",
       "      <td>Fragrance</td>\n",
       "      <td>Perfume</td>\n",
       "      <td>Spray</td>\n",
       "      <td>A new Amazone who is so much more contemporary...</td>\n",
       "      <td>[citrus fruits, currant, raspberry]</td>\n",
       "      <td>42</td>\n",
       "    </tr>\n",
       "    <tr>\n",
       "      <th>3</th>\n",
       "      <td>JIK820</td>\n",
       "      <td>Arancia di Capri Eau de Toilette 150ml</td>\n",
       "      <td>ACQUA DI PARMA</td>\n",
       "      <td>Fragrance</td>\n",
       "      <td>Perfume</td>\n",
       "      <td>Spray</td>\n",
       "      <td>Reminisce on the summer vacations at Capri wit...</td>\n",
       "      <td>[orange, mandarin, lemon, petitgrain, cardamon...</td>\n",
       "      <td>39</td>\n",
       "    </tr>\n",
       "    <tr>\n",
       "      <th>4</th>\n",
       "      <td>EOI621</td>\n",
       "      <td>Blu Mediterraneo Fico Di Amalfi Eau de Toilett...</td>\n",
       "      <td>ACQUA DI PARMA</td>\n",
       "      <td>Fragrance</td>\n",
       "      <td>Perfume</td>\n",
       "      <td>Spray</td>\n",
       "      <td>A unique combination of fig nectar, jasmine an...</td>\n",
       "      <td>[bergamot, lemon, grapefruit, citron, fig nect...</td>\n",
       "      <td>10</td>\n",
       "    </tr>\n",
       "  </tbody>\n",
       "</table>\n",
       "</div>"
      ],
      "text/plain": [
       "  product_id                                       product_name  \\\n",
       "0     YBB493                 Acqua Di Gioia Eau de Parfum 100ml   \n",
       "1     YQX798                     My Burberry Eau De Parfum 90ml   \n",
       "2     OYK369                 Rose Amazone Eau de Toilette 100ml   \n",
       "3     JIK820             Arancia di Capri Eau de Toilette 150ml   \n",
       "4     EOI621  Blu Mediterraneo Fico Di Amalfi Eau de Toilett...   \n",
       "\n",
       "                   brand   category    class subclass  \\\n",
       "0  GIORGIO ARMANI BEAUTY  Fragrance  Perfume    Spray   \n",
       "1        BURBERRY BEAUTY  Fragrance  Perfume    Spray   \n",
       "2                 HERMÈS  Fragrance  Perfume    Spray   \n",
       "3         ACQUA DI PARMA  Fragrance  Perfume    Spray   \n",
       "4         ACQUA DI PARMA  Fragrance  Perfume    Spray   \n",
       "\n",
       "                                 product_description  \\\n",
       "0  Perfect for the spring and summer, Giorgio Arm...   \n",
       "1  <li>90ml</li><li>Contemporary floral scent</li...   \n",
       "2  A new Amazone who is so much more contemporary...   \n",
       "3  Reminisce on the summer vacations at Capri wit...   \n",
       "4  A unique combination of fig nectar, jasmine an...   \n",
       "\n",
       "                                            features  stock_level  \n",
       "0       [lmr cedarwood heart, brown sugar, labdanum]           15  \n",
       "1  [sweet pea, bergamot fuse, geranium leaf, gold...           69  \n",
       "2                [citrus fruits, currant, raspberry]           42  \n",
       "3  [orange, mandarin, lemon, petitgrain, cardamon...           39  \n",
       "4  [bergamot, lemon, grapefruit, citron, fig nect...           10  "
      ]
     },
     "execution_count": 20,
     "metadata": {},
     "output_type": "execute_result"
    }
   ],
   "source": [
    "# extract documents and metadata from table\n",
    "df = data.toPandas()\n",
    "# adding random stock level\n",
    "df[\"stock_level\"] = np.random.randint(0, 101, size=len(df))\n",
    "df.head()"
   ]
  },
  {
   "cell_type": "code",
   "execution_count": 21,
   "id": "854be31e895d65c1",
   "metadata": {
    "ExecuteTime": {
     "end_time": "2024-01-01T04:09:32.977447Z",
     "start_time": "2024-01-01T04:09:32.215672Z"
    },
    "collapsed": false,
    "jupyter": {
     "outputs_hidden": false
    }
   },
   "outputs": [],
   "source": [
    "# embed the lists of words\n",
    "from sklearn.preprocessing import MultiLabelBinarizer\n",
    "\n",
    "# extract the complete vocabulary of unique words\n",
    "vocabulary = set(word for sublist in df[\"features\"] for word in sublist)\n",
    "\n",
    "# initialize MultiLabelBinarizer\n",
    "mlb = MultiLabelBinarizer(classes=list(vocabulary))\n",
    "\n",
    "# fit and transform the 'features' column\n",
    "word_freq_vectors = mlb.fit_transform(df['features'])\n",
    "words = mlb.classes_\n",
    "\n",
    "# normalize the vector\n",
    "normalized_word_freq_array = word_freq_vectors / np.linalg.norm(word_freq_vectors, axis=1, keepdims=True)"
   ]
  },
  {
   "cell_type": "code",
   "execution_count": 22,
   "id": "a4c9c57de8db31e0",
   "metadata": {
    "ExecuteTime": {
     "end_time": "2024-01-01T04:09:34.011751Z",
     "start_time": "2024-01-01T04:09:33.959474Z"
    },
    "collapsed": false,
    "jupyter": {
     "outputs_hidden": false
    }
   },
   "outputs": [],
   "source": [
    "# put embedding into vectordb\n",
    "product_ids = list(df[\"product_id\"])\n",
    "product_metadatas = df[[\"product_name\", \"brand\", \"category\", \"class\", \"subclass\", \"stock_level\"]].to_dict(\n",
    "    orient='records')\n",
    "\n",
    "perfume_vectorstore.add_embeddings(\n",
    "    embeddings=normalized_word_freq_array.tolist(),\n",
    "    metadatas=product_metadatas,\n",
    "    product_ids=product_ids,\n",
    ")"
   ]
  },
  {
   "cell_type": "code",
   "execution_count": 23,
   "id": "aec78ea3b81b2ce6",
   "metadata": {
    "ExecuteTime": {
     "end_time": "2024-01-01T04:09:44.704887Z",
     "start_time": "2024-01-01T04:09:44.694698Z"
    },
    "collapsed": false,
    "jupyter": {
     "outputs_hidden": false
    }
   },
   "outputs": [
    {
     "name": "stdout",
     "output_type": "stream",
     "text": [
      "For Product EHL515, the top 9 most similar items are:\n"
     ]
    },
    {
     "data": {
      "text/html": [
       "<div>\n",
       "<style scoped>\n",
       "    .dataframe tbody tr th:only-of-type {\n",
       "        vertical-align: middle;\n",
       "    }\n",
       "\n",
       "    .dataframe tbody tr th {\n",
       "        vertical-align: top;\n",
       "    }\n",
       "\n",
       "    .dataframe thead th {\n",
       "        text-align: right;\n",
       "    }\n",
       "</style>\n",
       "<table border=\"1\" class=\"dataframe\">\n",
       "  <thead>\n",
       "    <tr style=\"text-align: right;\">\n",
       "      <th></th>\n",
       "      <th>product_id</th>\n",
       "      <th>product_name</th>\n",
       "      <th>class</th>\n",
       "      <th>subclass</th>\n",
       "      <th>stock_level</th>\n",
       "      <th>brand</th>\n",
       "      <th>distance</th>\n",
       "    </tr>\n",
       "  </thead>\n",
       "  <tbody>\n",
       "    <tr>\n",
       "      <th>0</th>\n",
       "      <td>EHL515</td>\n",
       "      <td>Papier Carbone Eau de Parfum 20ml</td>\n",
       "      <td>Perfume</td>\n",
       "      <td>Spray</td>\n",
       "      <td>60</td>\n",
       "      <td>ORMAIE</td>\n",
       "      <td>0.000</td>\n",
       "    </tr>\n",
       "    <tr>\n",
       "      <th>1</th>\n",
       "      <td>EHL544</td>\n",
       "      <td>Papier Carbone Eau de Parfum 50ml</td>\n",
       "      <td>Perfume</td>\n",
       "      <td>Spray</td>\n",
       "      <td>49</td>\n",
       "      <td>ORMAIE</td>\n",
       "      <td>0.000</td>\n",
       "    </tr>\n",
       "    <tr>\n",
       "      <th>2</th>\n",
       "      <td>EHL492</td>\n",
       "      <td>Papier Carbone Eau de Parfum 100ml</td>\n",
       "      <td>Perfume</td>\n",
       "      <td>Spray</td>\n",
       "      <td>25</td>\n",
       "      <td>ORMAIE</td>\n",
       "      <td>0.000</td>\n",
       "    </tr>\n",
       "    <tr>\n",
       "      <th>3</th>\n",
       "      <td>EHL540</td>\n",
       "      <td>Papier Carbone The Ampoule Refill 20ml</td>\n",
       "      <td>Perfume</td>\n",
       "      <td>Spray</td>\n",
       "      <td>6</td>\n",
       "      <td>ORMAIE</td>\n",
       "      <td>0.000</td>\n",
       "    </tr>\n",
       "    <tr>\n",
       "      <th>4</th>\n",
       "      <td>BWO448</td>\n",
       "      <td>PRIVÉ VÉTIVER D'HIVER Eau de Toilette 50ML</td>\n",
       "      <td>Perfume</td>\n",
       "      <td>Spray</td>\n",
       "      <td>41</td>\n",
       "      <td>GIORGIO ARMANI BEAUTY</td>\n",
       "      <td>0.625</td>\n",
       "    </tr>\n",
       "    <tr>\n",
       "      <th>5</th>\n",
       "      <td>UGI240</td>\n",
       "      <td>Sunday Cologne Eau De Parfum 50ml</td>\n",
       "      <td>Perfume</td>\n",
       "      <td>Spray</td>\n",
       "      <td>97</td>\n",
       "      <td>BYREDO</td>\n",
       "      <td>0.646</td>\n",
       "    </tr>\n",
       "    <tr>\n",
       "      <th>6</th>\n",
       "      <td>UGI237</td>\n",
       "      <td>Sunday Cologne Eau de Parfum 100ml</td>\n",
       "      <td>Perfume</td>\n",
       "      <td>Spray</td>\n",
       "      <td>24</td>\n",
       "      <td>BYREDO</td>\n",
       "      <td>0.646</td>\n",
       "    </tr>\n",
       "    <tr>\n",
       "      <th>7</th>\n",
       "      <td>BQW013</td>\n",
       "      <td>Vetiver eau de parfum 50ml</td>\n",
       "      <td>Perfume</td>\n",
       "      <td>Spray</td>\n",
       "      <td>87</td>\n",
       "      <td>MALIN+GOETZ</td>\n",
       "      <td>0.711</td>\n",
       "    </tr>\n",
       "    <tr>\n",
       "      <th>8</th>\n",
       "      <td>EHL509</td>\n",
       "      <td>Le Passant Eau de Parfum 20ml</td>\n",
       "      <td>Perfume</td>\n",
       "      <td>Spray</td>\n",
       "      <td>70</td>\n",
       "      <td>ORMAIE</td>\n",
       "      <td>0.733</td>\n",
       "    </tr>\n",
       "    <tr>\n",
       "      <th>9</th>\n",
       "      <td>EHL494</td>\n",
       "      <td>Le Passant Eau de Parfum 50ml</td>\n",
       "      <td>Perfume</td>\n",
       "      <td>Spray</td>\n",
       "      <td>100</td>\n",
       "      <td>ORMAIE</td>\n",
       "      <td>0.733</td>\n",
       "    </tr>\n",
       "  </tbody>\n",
       "</table>\n",
       "</div>"
      ],
      "text/plain": [
       "  product_id                                product_name    class subclass  \\\n",
       "0     EHL515           Papier Carbone Eau de Parfum 20ml  Perfume    Spray   \n",
       "1     EHL544           Papier Carbone Eau de Parfum 50ml  Perfume    Spray   \n",
       "2     EHL492          Papier Carbone Eau de Parfum 100ml  Perfume    Spray   \n",
       "3     EHL540      Papier Carbone The Ampoule Refill 20ml  Perfume    Spray   \n",
       "4     BWO448  PRIVÉ VÉTIVER D'HIVER Eau de Toilette 50ML  Perfume    Spray   \n",
       "5     UGI240           Sunday Cologne Eau De Parfum 50ml  Perfume    Spray   \n",
       "6     UGI237          Sunday Cologne Eau de Parfum 100ml  Perfume    Spray   \n",
       "7     BQW013                  Vetiver eau de parfum 50ml  Perfume    Spray   \n",
       "8     EHL509               Le Passant Eau de Parfum 20ml  Perfume    Spray   \n",
       "9     EHL494               Le Passant Eau de Parfum 50ml  Perfume    Spray   \n",
       "\n",
       "   stock_level                  brand  distance  \n",
       "0           60                 ORMAIE     0.000  \n",
       "1           49                 ORMAIE     0.000  \n",
       "2           25                 ORMAIE     0.000  \n",
       "3            6                 ORMAIE     0.000  \n",
       "4           41  GIORGIO ARMANI BEAUTY     0.625  \n",
       "5           97                 BYREDO     0.646  \n",
       "6           24                 BYREDO     0.646  \n",
       "7           87            MALIN+GOETZ     0.711  \n",
       "8           70                 ORMAIE     0.733  \n",
       "9          100                 ORMAIE     0.733  "
      ]
     },
     "metadata": {},
     "output_type": "display_data"
    }
   ],
   "source": [
    "visualize_result(perfume_vectorstore.query_with_product_id(np.random.choice(product_ids, 1)[0]))"
   ]
  },
  {
   "cell_type": "code",
   "execution_count": null,
   "id": "3fd7474d2aae4af8",
   "metadata": {
    "collapsed": false,
    "jupyter": {
     "outputs_hidden": false
    }
   },
   "outputs": [],
   "source": []
  }
 ],
 "metadata": {
  "kernelspec": {
   "display_name": "Python 3 (ipykernel)",
   "language": "python",
   "name": "python3"
  },
  "language_info": {
   "codemirror_mode": {
    "name": "ipython",
    "version": 3
   },
   "file_extension": ".py",
   "mimetype": "text/x-python",
   "name": "python",
   "nbconvert_exporter": "python",
   "pygments_lexer": "ipython3",
   "version": "3.10.0"
  }
 },
 "nbformat": 4,
 "nbformat_minor": 5
}
