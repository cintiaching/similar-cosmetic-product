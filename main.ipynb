{
 "cells": [
  {
   "cell_type": "code",
   "execution_count": 1,
   "id": "initial_id",
   "metadata": {
    "ExecuteTime": {
     "end_time": "2024-01-02T06:49:09.204209Z",
     "start_time": "2024-01-02T06:49:04.013809Z"
    }
   },
   "outputs": [
    {
     "data": {
      "text/plain": "True"
     },
     "execution_count": 1,
     "metadata": {},
     "output_type": "execute_result"
    }
   ],
   "source": [
    "import os\n",
    "import pandas as pd\n",
    "import numpy as np\n",
    "from pyspark.sql import SparkSession\n",
    "from dotenv import load_dotenv\n",
    "\n",
    "from vectordb import SimilarProductVectorDB\n",
    "\n",
    "load_dotenv()"
   ]
  },
  {
   "cell_type": "markdown",
   "id": "98cf1e84b2bca832",
   "metadata": {
    "collapsed": false
   },
   "source": [
    "# Load data"
   ]
  },
  {
   "cell_type": "code",
   "execution_count": 2,
   "id": "5d2267298cba0d4a",
   "metadata": {
    "collapsed": false,
    "ExecuteTime": {
     "end_time": "2024-01-02T06:50:43.899929Z",
     "start_time": "2024-01-02T06:50:34.879171Z"
    }
   },
   "outputs": [
    {
     "name": "stderr",
     "output_type": "stream",
     "text": [
      "Setting default log level to \"WARN\".\n",
      "To adjust logging level use sc.setLogLevel(newLevel). For SparkR, use setLogLevel(newLevel).\n",
      "24/01/02 14:50:38 WARN NativeCodeLoader: Unable to load native-hadoop library for your platform... using builtin-java classes where applicable\n",
      "                                                                                \r"
     ]
    }
   ],
   "source": [
    "# read product data\n",
    "spark = SparkSession.builder.appName(\"read_data\").getOrCreate()\n",
    "# data cannot be provided according to company policy\n",
    "# please load ur data here to try!\n",
    "data = spark.read.parquet(os.environ[\"PRODUCT_DATA_PATH\"])"
   ]
  },
  {
   "cell_type": "code",
   "execution_count": 3,
   "id": "e6de0f3c61bc246f",
   "metadata": {
    "collapsed": false,
    "ExecuteTime": {
     "end_time": "2024-01-02T06:50:43.900324Z",
     "start_time": "2024-01-02T06:50:43.897613Z"
    }
   },
   "outputs": [
    {
     "name": "stdout",
     "output_type": "stream",
     "text": [
      "root\n",
      " |-- product_id: string (nullable = true)\n",
      " |-- product_name: string (nullable = true)\n",
      " |-- brand: string (nullable = true)\n",
      " |-- category: string (nullable = true)\n",
      " |-- class: string (nullable = true)\n",
      " |-- subclass: string (nullable = true)\n",
      " |-- product_description: string (nullable = true)\n"
     ]
    }
   ],
   "source": [
    "data.printSchema()"
   ]
  },
  {
   "cell_type": "markdown",
   "id": "a0793ef76bf42696",
   "metadata": {
    "collapsed": false
   },
   "source": [
    "# Initialize vectorstore"
   ]
  },
  {
   "cell_type": "code",
   "execution_count": 4,
   "id": "85b8c1b357d58acc",
   "metadata": {
    "collapsed": false,
    "ExecuteTime": {
     "end_time": "2024-01-02T06:51:33.967517Z",
     "start_time": "2024-01-02T06:51:33.748406Z"
    }
   },
   "outputs": [],
   "source": [
    "vectorstore = SimilarProductVectorDB(\n",
    "    collection_name=\"cosmetics_similar_product_db\",\n",
    "    distance_function=\"ip\",\n",
    "    n_query_result=11,  # show at most top 10 most similar product in result + first result should be itself\n",
    ")"
   ]
  },
  {
   "cell_type": "code",
   "execution_count": 5,
   "id": "489ce307da13a32a",
   "metadata": {
    "collapsed": false,
    "ExecuteTime": {
     "end_time": "2024-01-02T06:51:40.306902Z",
     "start_time": "2024-01-02T06:51:36.910498Z"
    }
   },
   "outputs": [
    {
     "name": "stderr",
     "output_type": "stream",
     "text": [
      "                                                                                \r"
     ]
    }
   ],
   "source": [
    "# extract documents and metadata from table\n",
    "df = data.toPandas()\n",
    "# adding random stock level\n",
    "df[\"stock_level\"] = np.random.randint(0, 101, size=len(df))"
   ]
  },
  {
   "cell_type": "code",
   "execution_count": 6,
   "id": "e6a84c08403a1faa",
   "metadata": {
    "collapsed": false,
    "ExecuteTime": {
     "end_time": "2024-01-02T06:51:40.317071Z",
     "start_time": "2024-01-02T06:51:40.308090Z"
    }
   },
   "outputs": [
    {
     "data": {
      "text/plain": "  product_id                             product_name     brand   category  \\\n0     KLK169     Luminous Deep Hydration Lifting Mask    TATCHA   Skincare   \n1     LGY307  Jour d'Hermès Absolu Eau de Parfum 50ml    HERMÈS  Fragrance   \n2     LGY220  Jour d'Hermès Absolu Eau de Parfum 85ml    HERMÈS  Fragrance   \n3     LKK287                 Love In White Spray 75ml     CREED  Fragrance   \n4     AKY054     Neroli Portofino Eau de Parfum 100ml  TOM FORD  Fragrance   \n\n                class    subclass  \\\n0  Masks & Treatments  Sheet Mask   \n1             Perfume       Spray   \n2             Perfume       Spray   \n3             Perfume       Spray   \n4             Perfume       Spray   \n\n                                 product_description  stock_level  \n0  Boosting moisture levels up to 200% in 15 minu...            8  \n1  I wanted to express the essence of femininity ...           60  \n2  I wanted to express the essence of femininity ...           44  \n3  Inspired by a love for sailing, this Millésime...            5  \n4  Vibrant. Sparkling. Transportive.<br>To TOM FO...           89  ",
      "text/html": "<div>\n<style scoped>\n    .dataframe tbody tr th:only-of-type {\n        vertical-align: middle;\n    }\n\n    .dataframe tbody tr th {\n        vertical-align: top;\n    }\n\n    .dataframe thead th {\n        text-align: right;\n    }\n</style>\n<table border=\"1\" class=\"dataframe\">\n  <thead>\n    <tr style=\"text-align: right;\">\n      <th></th>\n      <th>product_id</th>\n      <th>product_name</th>\n      <th>brand</th>\n      <th>category</th>\n      <th>class</th>\n      <th>subclass</th>\n      <th>product_description</th>\n      <th>stock_level</th>\n    </tr>\n  </thead>\n  <tbody>\n    <tr>\n      <th>0</th>\n      <td>KLK169</td>\n      <td>Luminous Deep Hydration Lifting Mask</td>\n      <td>TATCHA</td>\n      <td>Skincare</td>\n      <td>Masks &amp; Treatments</td>\n      <td>Sheet Mask</td>\n      <td>Boosting moisture levels up to 200% in 15 minu...</td>\n      <td>8</td>\n    </tr>\n    <tr>\n      <th>1</th>\n      <td>LGY307</td>\n      <td>Jour d'Hermès Absolu Eau de Parfum 50ml</td>\n      <td>HERMÈS</td>\n      <td>Fragrance</td>\n      <td>Perfume</td>\n      <td>Spray</td>\n      <td>I wanted to express the essence of femininity ...</td>\n      <td>60</td>\n    </tr>\n    <tr>\n      <th>2</th>\n      <td>LGY220</td>\n      <td>Jour d'Hermès Absolu Eau de Parfum 85ml</td>\n      <td>HERMÈS</td>\n      <td>Fragrance</td>\n      <td>Perfume</td>\n      <td>Spray</td>\n      <td>I wanted to express the essence of femininity ...</td>\n      <td>44</td>\n    </tr>\n    <tr>\n      <th>3</th>\n      <td>LKK287</td>\n      <td>Love In White Spray 75ml</td>\n      <td>CREED</td>\n      <td>Fragrance</td>\n      <td>Perfume</td>\n      <td>Spray</td>\n      <td>Inspired by a love for sailing, this Millésime...</td>\n      <td>5</td>\n    </tr>\n    <tr>\n      <th>4</th>\n      <td>AKY054</td>\n      <td>Neroli Portofino Eau de Parfum 100ml</td>\n      <td>TOM FORD</td>\n      <td>Fragrance</td>\n      <td>Perfume</td>\n      <td>Spray</td>\n      <td>Vibrant. Sparkling. Transportive.&lt;br&gt;To TOM FO...</td>\n      <td>89</td>\n    </tr>\n  </tbody>\n</table>\n</div>"
     },
     "execution_count": 6,
     "metadata": {},
     "output_type": "execute_result"
    }
   ],
   "source": [
    "df.head()"
   ]
  },
  {
   "cell_type": "markdown",
   "id": "15ca234a20f5532b",
   "metadata": {
    "collapsed": false
   },
   "source": [
    "# Add to vectorstore\n",
    "Simply use product description as the features and pass into the vectorstore."
   ]
  },
  {
   "cell_type": "code",
   "execution_count": 7,
   "id": "242ba43736a0a3c7",
   "metadata": {
    "collapsed": false,
    "ExecuteTime": {
     "end_time": "2024-01-02T06:52:45.941206Z",
     "start_time": "2024-01-02T06:51:43.840541Z"
    }
   },
   "outputs": [],
   "source": [
    "# put document into vectordb\n",
    "product_ids = list(df[\"product_id\"])\n",
    "product_desc = list(df[\"product_description\"])\n",
    "product_metadatas = df[[\"product_name\", \"brand\", \"category\", \"class\", \"subclass\", \"stock_level\"]].to_dict(\n",
    "    orient='records')\n",
    "\n",
    "vectorstore.add_documents(\n",
    "    documents=product_desc,\n",
    "    metadatas=product_metadatas,\n",
    "    product_ids=product_ids,\n",
    ")"
   ]
  },
  {
   "cell_type": "markdown",
   "id": "1db7b5cd835fddf2",
   "metadata": {
    "collapsed": false
   },
   "source": [
    "# Query"
   ]
  },
  {
   "cell_type": "code",
   "execution_count": 8,
   "id": "839722694ee7d273",
   "metadata": {
    "collapsed": false,
    "ExecuteTime": {
     "end_time": "2024-01-02T06:52:45.968830Z",
     "start_time": "2024-01-02T06:52:45.942098Z"
    }
   },
   "outputs": [],
   "source": [
    "# small function for visualizing the result\n",
    "def visualize_result(query_result):\n",
    "    result_dict = query_result[\"metadatas\"][0]\n",
    "    query_id = query_result[\"ids\"][0][0]\n",
    "    for i, (_id, distance) in enumerate(zip(query_result[\"ids\"][0], query_result[\"distances\"][0])):\n",
    "        result_dict[i][\"product_id\"] = _id\n",
    "        result_dict[i][\"distance\"] = round(distance, 3)\n",
    "    result_df = pd.DataFrame(result_dict)\n",
    "    result_df = result_df[[\"product_id\", \"product_name\", \"class\", \"subclass\", \"stock_level\", \"brand\", \"distance\"]]\n",
    "    print(f\"For Product {query_id}, the top {len(query_result['ids'][0]) - 1} most similar items are:\")\n",
    "    display(result_df)"
   ]
  },
  {
   "cell_type": "code",
   "execution_count": 15,
   "id": "a1afb24d6df2318c",
   "metadata": {
    "collapsed": false,
    "ExecuteTime": {
     "end_time": "2024-01-02T06:54:08.494502Z",
     "start_time": "2024-01-02T06:54:08.470662Z"
    }
   },
   "outputs": [
    {
     "name": "stdout",
     "output_type": "stream",
     "text": [
      "For Product AKW568, the top 10 most similar items are:\n"
     ]
    },
    {
     "data": {
      "text/plain": "   product_id                                       product_name     class  \\\n0      AKW568  Sugar Chocolate Hydrating Lip Balm Limited Edi...  Lip Care   \n1      AKW565     Sugar Lemon Hydrating Lip Balm Limited Edition  Lip Care   \n2      AKW569                   Sugar Coconut Hydrating Lip Balm  Lip Care   \n3      AJB605                   Sugar Lip Caramel Hydrating Balm  Lip Care   \n4      ALE646            Sugar Lip Wonder Drops Advanced Therapy  Lip Care   \n5      AKW563         Sugar Dream Lip Treatment Advanced Therapy  Lip Care   \n6      AJB603                   Sugar Cream Lip Treatment – Baby  Lip Care   \n7      AJB609                   Sugar Cream Lip Treatment – Gilt  Lip Care   \n8      AJB602                  Sugar Cream Lip Treatment – Pearl  Lip Care   \n9      ALB647                           Rose Petal Lip Balm 4.4g  Lip Care   \n10     AKX969                                     Lip Exfoliator  Lip Care   \n\n         subclass  stock_level            brand  distance  \n0        Lip Balm           76            FRESH     0.070  \n1        Lip Balm           53            FRESH     0.076  \n2        Lip Balm           28            FRESH     0.089  \n3        Lip Balm           96            FRESH     0.164  \n4   Lip Treatment           37            FRESH     0.247  \n5   Lip Treatment           89            FRESH     0.272  \n6   Lip Treatment           43            FRESH     0.273  \n7   Lip Treatment           65            FRESH     0.276  \n8   Lip Treatment            4            FRESH     0.278  \n9        Lip Balm           71  SUBTLE ENERGIES     0.298  \n10  Lip Treatment           27         TOM FORD     0.298  ",
      "text/html": "<div>\n<style scoped>\n    .dataframe tbody tr th:only-of-type {\n        vertical-align: middle;\n    }\n\n    .dataframe tbody tr th {\n        vertical-align: top;\n    }\n\n    .dataframe thead th {\n        text-align: right;\n    }\n</style>\n<table border=\"1\" class=\"dataframe\">\n  <thead>\n    <tr style=\"text-align: right;\">\n      <th></th>\n      <th>product_id</th>\n      <th>product_name</th>\n      <th>class</th>\n      <th>subclass</th>\n      <th>stock_level</th>\n      <th>brand</th>\n      <th>distance</th>\n    </tr>\n  </thead>\n  <tbody>\n    <tr>\n      <th>0</th>\n      <td>AKW568</td>\n      <td>Sugar Chocolate Hydrating Lip Balm Limited Edi...</td>\n      <td>Lip Care</td>\n      <td>Lip Balm</td>\n      <td>76</td>\n      <td>FRESH</td>\n      <td>0.070</td>\n    </tr>\n    <tr>\n      <th>1</th>\n      <td>AKW565</td>\n      <td>Sugar Lemon Hydrating Lip Balm Limited Edition</td>\n      <td>Lip Care</td>\n      <td>Lip Balm</td>\n      <td>53</td>\n      <td>FRESH</td>\n      <td>0.076</td>\n    </tr>\n    <tr>\n      <th>2</th>\n      <td>AKW569</td>\n      <td>Sugar Coconut Hydrating Lip Balm</td>\n      <td>Lip Care</td>\n      <td>Lip Balm</td>\n      <td>28</td>\n      <td>FRESH</td>\n      <td>0.089</td>\n    </tr>\n    <tr>\n      <th>3</th>\n      <td>AJB605</td>\n      <td>Sugar Lip Caramel Hydrating Balm</td>\n      <td>Lip Care</td>\n      <td>Lip Balm</td>\n      <td>96</td>\n      <td>FRESH</td>\n      <td>0.164</td>\n    </tr>\n    <tr>\n      <th>4</th>\n      <td>ALE646</td>\n      <td>Sugar Lip Wonder Drops Advanced Therapy</td>\n      <td>Lip Care</td>\n      <td>Lip Treatment</td>\n      <td>37</td>\n      <td>FRESH</td>\n      <td>0.247</td>\n    </tr>\n    <tr>\n      <th>5</th>\n      <td>AKW563</td>\n      <td>Sugar Dream Lip Treatment Advanced Therapy</td>\n      <td>Lip Care</td>\n      <td>Lip Treatment</td>\n      <td>89</td>\n      <td>FRESH</td>\n      <td>0.272</td>\n    </tr>\n    <tr>\n      <th>6</th>\n      <td>AJB603</td>\n      <td>Sugar Cream Lip Treatment – Baby</td>\n      <td>Lip Care</td>\n      <td>Lip Treatment</td>\n      <td>43</td>\n      <td>FRESH</td>\n      <td>0.273</td>\n    </tr>\n    <tr>\n      <th>7</th>\n      <td>AJB609</td>\n      <td>Sugar Cream Lip Treatment – Gilt</td>\n      <td>Lip Care</td>\n      <td>Lip Treatment</td>\n      <td>65</td>\n      <td>FRESH</td>\n      <td>0.276</td>\n    </tr>\n    <tr>\n      <th>8</th>\n      <td>AJB602</td>\n      <td>Sugar Cream Lip Treatment – Pearl</td>\n      <td>Lip Care</td>\n      <td>Lip Treatment</td>\n      <td>4</td>\n      <td>FRESH</td>\n      <td>0.278</td>\n    </tr>\n    <tr>\n      <th>9</th>\n      <td>ALB647</td>\n      <td>Rose Petal Lip Balm 4.4g</td>\n      <td>Lip Care</td>\n      <td>Lip Balm</td>\n      <td>71</td>\n      <td>SUBTLE ENERGIES</td>\n      <td>0.298</td>\n    </tr>\n    <tr>\n      <th>10</th>\n      <td>AKX969</td>\n      <td>Lip Exfoliator</td>\n      <td>Lip Care</td>\n      <td>Lip Treatment</td>\n      <td>27</td>\n      <td>TOM FORD</td>\n      <td>0.298</td>\n    </tr>\n  </tbody>\n</table>\n</div>"
     },
     "metadata": {},
     "output_type": "display_data"
    }
   ],
   "source": [
    "random_product_id = np.random.choice(product_ids, 1)[0]\n",
    "result = vectorstore.query_with_product_id(random_product_id)\n",
    "visualize_result(result)"
   ]
  },
  {
   "cell_type": "markdown",
   "id": "59350c0baa9707f0",
   "metadata": {
    "collapsed": false
   },
   "source": [
    "# Use Extracted Features\n",
    "Use extracted features as the features and pass the embeddings into the vectorstore."
   ]
  },
  {
   "cell_type": "code",
   "execution_count": 16,
   "id": "6371b0be95f84d01",
   "metadata": {
    "collapsed": false,
    "ExecuteTime": {
     "end_time": "2024-01-02T06:54:40.895730Z",
     "start_time": "2024-01-02T06:54:40.503111Z"
    }
   },
   "outputs": [
    {
     "name": "stdout",
     "output_type": "stream",
     "text": [
      "root\n",
      " |-- product_id: string (nullable = true)\n",
      " |-- product_name: string (nullable = true)\n",
      " |-- brand: string (nullable = true)\n",
      " |-- category: string (nullable = true)\n",
      " |-- class: string (nullable = true)\n",
      " |-- subclass: string (nullable = true)\n",
      " |-- product_description: string (nullable = true)\n",
      " |-- features: array (nullable = true)\n",
      " |    |-- element: string (containsNull = true)\n"
     ]
    }
   ],
   "source": [
    "# load data\n",
    "data = spark.read.parquet(os.environ[\"PERFUME_PRODUCT_DATA_PATH\"])\n",
    "data.printSchema()"
   ]
  },
  {
   "cell_type": "code",
   "execution_count": 17,
   "id": "cf74d5698a599323",
   "metadata": {
    "collapsed": false,
    "ExecuteTime": {
     "end_time": "2024-01-02T06:54:41.398457Z",
     "start_time": "2024-01-02T06:54:41.390834Z"
    }
   },
   "outputs": [],
   "source": [
    "# another vectorstore for features\n",
    "perfume_vectorstore = SimilarProductVectorDB(\n",
    "    collection_name=\"perfume_similar_product_db\",\n",
    "    distance_function=\"ip\",\n",
    "    n_query_result=11, \n",
    ")"
   ]
  },
  {
   "cell_type": "code",
   "execution_count": 18,
   "id": "5f57d3d5fb61f0de",
   "metadata": {
    "collapsed": false,
    "ExecuteTime": {
     "end_time": "2024-01-02T06:54:43.121987Z",
     "start_time": "2024-01-02T06:54:42.334013Z"
    }
   },
   "outputs": [
    {
     "data": {
      "text/plain": "  product_id                                       product_name  \\\n0     YBB493                 Acqua Di Gioia Eau de Parfum 100ml   \n1     YQX798                     My Burberry Eau De Parfum 90ml   \n2     OYK369                 Rose Amazone Eau de Toilette 100ml   \n3     JIK820             Arancia di Capri Eau de Toilette 150ml   \n4     EOI621  Blu Mediterraneo Fico Di Amalfi Eau de Toilett...   \n\n                   brand   category    class subclass  \\\n0  GIORGIO ARMANI BEAUTY  Fragrance  Perfume    Spray   \n1        BURBERRY BEAUTY  Fragrance  Perfume    Spray   \n2                 HERMÈS  Fragrance  Perfume    Spray   \n3         ACQUA DI PARMA  Fragrance  Perfume    Spray   \n4         ACQUA DI PARMA  Fragrance  Perfume    Spray   \n\n                                 product_description  \\\n0  Perfect for the spring and summer, Giorgio Arm...   \n1  <li>90ml</li><li>Contemporary floral scent</li...   \n2  A new Amazone who is so much more contemporary...   \n3  Reminisce on the summer vacations at Capri wit...   \n4  A unique combination of fig nectar, jasmine an...   \n\n                                            features  stock_level  \n0       [lmr cedarwood heart, brown sugar, labdanum]           92  \n1  [sweet pea, bergamot fuse, geranium leaf, gold...           83  \n2                [citrus fruits, currant, raspberry]           73  \n3  [orange, mandarin, lemon, petitgrain, cardamon...           33  \n4  [bergamot, lemon, grapefruit, citron, fig nect...           33  ",
      "text/html": "<div>\n<style scoped>\n    .dataframe tbody tr th:only-of-type {\n        vertical-align: middle;\n    }\n\n    .dataframe tbody tr th {\n        vertical-align: top;\n    }\n\n    .dataframe thead th {\n        text-align: right;\n    }\n</style>\n<table border=\"1\" class=\"dataframe\">\n  <thead>\n    <tr style=\"text-align: right;\">\n      <th></th>\n      <th>product_id</th>\n      <th>product_name</th>\n      <th>brand</th>\n      <th>category</th>\n      <th>class</th>\n      <th>subclass</th>\n      <th>product_description</th>\n      <th>features</th>\n      <th>stock_level</th>\n    </tr>\n  </thead>\n  <tbody>\n    <tr>\n      <th>0</th>\n      <td>YBB493</td>\n      <td>Acqua Di Gioia Eau de Parfum 100ml</td>\n      <td>GIORGIO ARMANI BEAUTY</td>\n      <td>Fragrance</td>\n      <td>Perfume</td>\n      <td>Spray</td>\n      <td>Perfect for the spring and summer, Giorgio Arm...</td>\n      <td>[lmr cedarwood heart, brown sugar, labdanum]</td>\n      <td>92</td>\n    </tr>\n    <tr>\n      <th>1</th>\n      <td>YQX798</td>\n      <td>My Burberry Eau De Parfum 90ml</td>\n      <td>BURBERRY BEAUTY</td>\n      <td>Fragrance</td>\n      <td>Perfume</td>\n      <td>Spray</td>\n      <td>&lt;li&gt;90ml&lt;/li&gt;&lt;li&gt;Contemporary floral scent&lt;/li...</td>\n      <td>[sweet pea, bergamot fuse, geranium leaf, gold...</td>\n      <td>83</td>\n    </tr>\n    <tr>\n      <th>2</th>\n      <td>OYK369</td>\n      <td>Rose Amazone Eau de Toilette 100ml</td>\n      <td>HERMÈS</td>\n      <td>Fragrance</td>\n      <td>Perfume</td>\n      <td>Spray</td>\n      <td>A new Amazone who is so much more contemporary...</td>\n      <td>[citrus fruits, currant, raspberry]</td>\n      <td>73</td>\n    </tr>\n    <tr>\n      <th>3</th>\n      <td>JIK820</td>\n      <td>Arancia di Capri Eau de Toilette 150ml</td>\n      <td>ACQUA DI PARMA</td>\n      <td>Fragrance</td>\n      <td>Perfume</td>\n      <td>Spray</td>\n      <td>Reminisce on the summer vacations at Capri wit...</td>\n      <td>[orange, mandarin, lemon, petitgrain, cardamon...</td>\n      <td>33</td>\n    </tr>\n    <tr>\n      <th>4</th>\n      <td>EOI621</td>\n      <td>Blu Mediterraneo Fico Di Amalfi Eau de Toilett...</td>\n      <td>ACQUA DI PARMA</td>\n      <td>Fragrance</td>\n      <td>Perfume</td>\n      <td>Spray</td>\n      <td>A unique combination of fig nectar, jasmine an...</td>\n      <td>[bergamot, lemon, grapefruit, citron, fig nect...</td>\n      <td>33</td>\n    </tr>\n  </tbody>\n</table>\n</div>"
     },
     "execution_count": 18,
     "metadata": {},
     "output_type": "execute_result"
    }
   ],
   "source": [
    "# extract documents and metadata from table\n",
    "df = data.toPandas()\n",
    "# adding random stock level\n",
    "df[\"stock_level\"] = np.random.randint(0, 101, size=len(df))\n",
    "df.head()"
   ]
  },
  {
   "cell_type": "code",
   "execution_count": 19,
   "id": "854be31e895d65c1",
   "metadata": {
    "collapsed": false,
    "ExecuteTime": {
     "end_time": "2024-01-02T06:54:43.274594Z",
     "start_time": "2024-01-02T06:54:43.268098Z"
    }
   },
   "outputs": [],
   "source": [
    "# embed the lists of words\n",
    "from sklearn.preprocessing import MultiLabelBinarizer\n",
    "\n",
    "# extract the complete vocabulary of unique words\n",
    "vocabulary = set(word for sublist in df[\"features\"] for word in sublist)\n",
    "\n",
    "# initialize MultiLabelBinarizer\n",
    "mlb = MultiLabelBinarizer(classes=list(vocabulary))\n",
    "\n",
    "# fit and transform the 'features' column\n",
    "word_freq_vectors = mlb.fit_transform(df['features'])\n",
    "words = mlb.classes_\n",
    "\n",
    "# normalize the vector\n",
    "normalized_word_freq_array = word_freq_vectors / np.linalg.norm(word_freq_vectors, axis=1, keepdims=True)"
   ]
  },
  {
   "cell_type": "code",
   "execution_count": 20,
   "id": "a4c9c57de8db31e0",
   "metadata": {
    "collapsed": false,
    "ExecuteTime": {
     "end_time": "2024-01-02T06:54:45.122307Z",
     "start_time": "2024-01-02T06:54:44.752798Z"
    }
   },
   "outputs": [],
   "source": [
    "# put embedding into vectordb\n",
    "product_ids = list(df[\"product_id\"])\n",
    "product_metadatas = df[[\"product_name\", \"brand\", \"category\", \"class\", \"subclass\", \"stock_level\"]].to_dict(\n",
    "    orient='records')\n",
    "\n",
    "perfume_vectorstore.add_embeddings(\n",
    "    embeddings=normalized_word_freq_array.tolist(),\n",
    "    metadatas=product_metadatas,\n",
    "    product_ids=product_ids,\n",
    ")"
   ]
  },
  {
   "cell_type": "code",
   "execution_count": 21,
   "id": "aec78ea3b81b2ce6",
   "metadata": {
    "collapsed": false,
    "ExecuteTime": {
     "end_time": "2024-01-02T06:54:58.415657Z",
     "start_time": "2024-01-02T06:54:58.381164Z"
    }
   },
   "outputs": [
    {
     "name": "stdout",
     "output_type": "stream",
     "text": [
      "For Product AYG279, the top 10 most similar items are:\n"
     ]
    },
    {
     "data": {
      "text/plain": "   product_id                                     product_name  \\\n0      AYG279                               Baies Scented Oval   \n1      BLE882          Perfumed Car Diffuser with Baies Insert   \n2      AHO287         RED ROSES SCENT SURROUND™ DIFFUSER 165ML   \n3      EEV060                      Fir & Rose Home Spray 110ml   \n4      BYY042                   SPEARMINT SCENT DIFFUSER 100ML   \n5      EEV058                       Black Tea Home Spray 110ml   \n6      BYY053                        PEAR SCENT DIFFUSER 100ML   \n7      BXV769                      INSIEME ROOM DIFFUSER 180ML   \n8      EAA181    ORANGE BLOSSOM SCENT SURROUND™ DIFFUSER 165ML   \n9      EBO572             10Minutes Incense Matches – Lavender   \n10     EAA187  BLACKBERRY & BAY SCENT SURROUND™ DIFFUSER 165ML   \n\n                      class                 subclass  stock_level  \\\n0   Room and Car Fragrances  Room and Car Fragrances           35   \n1   Room and Car Fragrances  Room and Car Fragrances           78   \n2   Room and Car Fragrances  Room and Car Fragrances           37   \n3   Room and Car Fragrances  Room and Car Fragrances           95   \n4   Room and Car Fragrances  Room and Car Fragrances            2   \n5   Room and Car Fragrances  Room and Car Fragrances           99   \n6   Room and Car Fragrances  Room and Car Fragrances           61   \n7   Room and Car Fragrances  Room and Car Fragrances            7   \n8   Room and Car Fragrances  Room and Car Fragrances           13   \n9   Room and Car Fragrances  Room and Car Fragrances           19   \n10  Room and Car Fragrances  Room and Car Fragrances           17   \n\n               brand  distance  \n0           DIPTYQUE     0.000  \n1           DIPTYQUE     0.500  \n2   JO MALONE LONDON     0.592  \n3       HANDHANDHAND     0.646  \n4       HANDHANDHAND     1.000  \n5       HANDHANDHAND     1.000  \n6       HANDHANDHAND     1.000  \n7     ACQUA DI PARMA     1.000  \n8   JO MALONE LONDON     1.000  \n9               HIBI     1.000  \n10  JO MALONE LONDON     1.000  ",
      "text/html": "<div>\n<style scoped>\n    .dataframe tbody tr th:only-of-type {\n        vertical-align: middle;\n    }\n\n    .dataframe tbody tr th {\n        vertical-align: top;\n    }\n\n    .dataframe thead th {\n        text-align: right;\n    }\n</style>\n<table border=\"1\" class=\"dataframe\">\n  <thead>\n    <tr style=\"text-align: right;\">\n      <th></th>\n      <th>product_id</th>\n      <th>product_name</th>\n      <th>class</th>\n      <th>subclass</th>\n      <th>stock_level</th>\n      <th>brand</th>\n      <th>distance</th>\n    </tr>\n  </thead>\n  <tbody>\n    <tr>\n      <th>0</th>\n      <td>AYG279</td>\n      <td>Baies Scented Oval</td>\n      <td>Room and Car Fragrances</td>\n      <td>Room and Car Fragrances</td>\n      <td>35</td>\n      <td>DIPTYQUE</td>\n      <td>0.000</td>\n    </tr>\n    <tr>\n      <th>1</th>\n      <td>BLE882</td>\n      <td>Perfumed Car Diffuser with Baies Insert</td>\n      <td>Room and Car Fragrances</td>\n      <td>Room and Car Fragrances</td>\n      <td>78</td>\n      <td>DIPTYQUE</td>\n      <td>0.500</td>\n    </tr>\n    <tr>\n      <th>2</th>\n      <td>AHO287</td>\n      <td>RED ROSES SCENT SURROUND™ DIFFUSER 165ML</td>\n      <td>Room and Car Fragrances</td>\n      <td>Room and Car Fragrances</td>\n      <td>37</td>\n      <td>JO MALONE LONDON</td>\n      <td>0.592</td>\n    </tr>\n    <tr>\n      <th>3</th>\n      <td>EEV060</td>\n      <td>Fir &amp; Rose Home Spray 110ml</td>\n      <td>Room and Car Fragrances</td>\n      <td>Room and Car Fragrances</td>\n      <td>95</td>\n      <td>HANDHANDHAND</td>\n      <td>0.646</td>\n    </tr>\n    <tr>\n      <th>4</th>\n      <td>BYY042</td>\n      <td>SPEARMINT SCENT DIFFUSER 100ML</td>\n      <td>Room and Car Fragrances</td>\n      <td>Room and Car Fragrances</td>\n      <td>2</td>\n      <td>HANDHANDHAND</td>\n      <td>1.000</td>\n    </tr>\n    <tr>\n      <th>5</th>\n      <td>EEV058</td>\n      <td>Black Tea Home Spray 110ml</td>\n      <td>Room and Car Fragrances</td>\n      <td>Room and Car Fragrances</td>\n      <td>99</td>\n      <td>HANDHANDHAND</td>\n      <td>1.000</td>\n    </tr>\n    <tr>\n      <th>6</th>\n      <td>BYY053</td>\n      <td>PEAR SCENT DIFFUSER 100ML</td>\n      <td>Room and Car Fragrances</td>\n      <td>Room and Car Fragrances</td>\n      <td>61</td>\n      <td>HANDHANDHAND</td>\n      <td>1.000</td>\n    </tr>\n    <tr>\n      <th>7</th>\n      <td>BXV769</td>\n      <td>INSIEME ROOM DIFFUSER 180ML</td>\n      <td>Room and Car Fragrances</td>\n      <td>Room and Car Fragrances</td>\n      <td>7</td>\n      <td>ACQUA DI PARMA</td>\n      <td>1.000</td>\n    </tr>\n    <tr>\n      <th>8</th>\n      <td>EAA181</td>\n      <td>ORANGE BLOSSOM SCENT SURROUND™ DIFFUSER 165ML</td>\n      <td>Room and Car Fragrances</td>\n      <td>Room and Car Fragrances</td>\n      <td>13</td>\n      <td>JO MALONE LONDON</td>\n      <td>1.000</td>\n    </tr>\n    <tr>\n      <th>9</th>\n      <td>EBO572</td>\n      <td>10Minutes Incense Matches – Lavender</td>\n      <td>Room and Car Fragrances</td>\n      <td>Room and Car Fragrances</td>\n      <td>19</td>\n      <td>HIBI</td>\n      <td>1.000</td>\n    </tr>\n    <tr>\n      <th>10</th>\n      <td>EAA187</td>\n      <td>BLACKBERRY &amp; BAY SCENT SURROUND™ DIFFUSER 165ML</td>\n      <td>Room and Car Fragrances</td>\n      <td>Room and Car Fragrances</td>\n      <td>17</td>\n      <td>JO MALONE LONDON</td>\n      <td>1.000</td>\n    </tr>\n  </tbody>\n</table>\n</div>"
     },
     "metadata": {},
     "output_type": "display_data"
    }
   ],
   "source": [
    "visualize_result(perfume_vectorstore.query_with_product_id(np.random.choice(product_ids, 1)[0]))"
   ]
  },
  {
   "cell_type": "code",
   "execution_count": null,
   "id": "3fd7474d2aae4af8",
   "metadata": {
    "collapsed": false
   },
   "outputs": [],
   "source": []
  }
 ],
 "metadata": {
  "kernelspec": {
   "display_name": "Python 3 (ipykernel)",
   "language": "python",
   "name": "python3"
  },
  "language_info": {
   "codemirror_mode": {
    "name": "ipython",
    "version": 3
   },
   "file_extension": ".py",
   "mimetype": "text/x-python",
   "name": "python",
   "nbconvert_exporter": "python",
   "pygments_lexer": "ipython3",
   "version": "3.10.0"
  }
 },
 "nbformat": 4,
 "nbformat_minor": 5
}
